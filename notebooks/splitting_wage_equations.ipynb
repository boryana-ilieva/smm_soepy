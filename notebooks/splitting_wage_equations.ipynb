{
 "cells": [
  {
   "cell_type": "code",
   "execution_count": 1,
   "metadata": {},
   "outputs": [],
   "source": [
    "import numpy as np"
   ]
  },
  {
   "cell_type": "code",
   "execution_count": 21,
   "metadata": {},
   "outputs": [],
   "source": [
    "# Set example values\n",
    "states = [5, 12, 2, 3, 2, 1]\n",
    "covariates = 12"
   ]
  },
  {
   "cell_type": "code",
   "execution_count": 3,
   "metadata": {},
   "outputs": [],
   "source": [
    "from soepy.python.pre_processing.model_processing import read_model_params_init\n",
    "from soepy.python.pre_processing.model_processing import read_model_spec_init"
   ]
  },
  {
   "cell_type": "code",
   "execution_count": 5,
   "metadata": {},
   "outputs": [],
   "source": [
    "model_params_df, model_params = read_model_params_init(\"test.soepy.pkl\")\n",
    "model_spec = read_model_spec_init(\"test.soepy.yml\", model_params_df)"
   ]
  },
  {
   "cell_type": "code",
   "execution_count": 22,
   "metadata": {},
   "outputs": [],
   "source": [
    "def calculate_log_wage_systematic(model_params, states, covariates, expected=True):\n",
    "    \"\"\"Calculate systematic wages, i.e., wages net of shock, for all states.\"\"\"\n",
    "\n",
    "    exp_p, exp_f = states[3], states[4]\n",
    "    educ_level = covariates - model_spec.educ_min\n",
    "\n",
    "    # Construct wage components\n",
    "    gamma_0s = np.array(model_params.gamma_0s)[educ_level]\n",
    "    gamma_1s = np.array(model_params.gamma_1s)[educ_level]\n",
    "    \n",
    "    if expected==True:\n",
    "        period_exp_sum = exp_p + exp_f\n",
    "    elif expected==False:\n",
    "        period_exp_sum = exp_p * np.array(model_params.g_s)[educ_level] + exp_f\n",
    "    else:\n",
    "        raise NotImplementedError\n",
    "    \n",
    "    depreciation = 1 - np.array(model_params.delta_s)[educ_level]\n",
    "\n",
    "    # Calculate wage in the given state\n",
    "    period_exp_total = period_exp_sum * depreciation + 1\n",
    "    returns_to_exp = gamma_1s * np.log(period_exp_total)\n",
    "    log_wage_systematic = gamma_0s + returns_to_exp\n",
    "\n",
    "    return log_wage_systematic"
   ]
  },
  {
   "cell_type": "code",
   "execution_count": 23,
   "metadata": {},
   "outputs": [],
   "source": [
    "log_wage_systematic = calculate_log_wage_systematic(model_params, states, covariates)"
   ]
  },
  {
   "cell_type": "code",
   "execution_count": 24,
   "metadata": {},
   "outputs": [
    {
     "data": {
      "text/plain": [
       "2.6025078423519523"
      ]
     },
     "execution_count": 24,
     "metadata": {},
     "output_type": "execute_result"
    }
   ],
   "source": [
    "log_wage_systematic"
   ]
  },
  {
   "cell_type": "code",
   "execution_count": 25,
   "metadata": {},
   "outputs": [],
   "source": [
    "log_wage_systematic2 = calculate_log_wage_systematic(model_params, states, covariates, False)"
   ]
  },
  {
   "cell_type": "code",
   "execution_count": 26,
   "metadata": {},
   "outputs": [
    {
     "data": {
      "text/plain": [
       "2.518234907072977"
      ]
     },
     "execution_count": 26,
     "metadata": {},
     "output_type": "execute_result"
    }
   ],
   "source": [
    "log_wage_systematic2"
   ]
  },
  {
   "cell_type": "code",
   "execution_count": 11,
   "metadata": {},
   "outputs": [],
   "source": [
    "def math_expr(a, b, c, ind=True):\n",
    "    answer = a*b*ind + c\n",
    "    return answer"
   ]
  },
  {
   "cell_type": "code",
   "execution_count": 14,
   "metadata": {},
   "outputs": [],
   "source": [
    "test = math_expr(1,2,3,False)"
   ]
  },
  {
   "cell_type": "code",
   "execution_count": 15,
   "metadata": {},
   "outputs": [
    {
     "data": {
      "text/plain": [
       "3"
      ]
     },
     "execution_count": 15,
     "metadata": {},
     "output_type": "execute_result"
    }
   ],
   "source": [
    "test"
   ]
  },
  {
   "cell_type": "code",
   "execution_count": null,
   "metadata": {},
   "outputs": [],
   "source": []
  }
 ],
 "metadata": {
  "kernelspec": {
   "display_name": "Python [conda env:soepy]",
   "language": "python",
   "name": "conda-env-soepy-py"
  },
  "language_info": {
   "codemirror_mode": {
    "name": "ipython",
    "version": 3
   },
   "file_extension": ".py",
   "mimetype": "text/x-python",
   "name": "python",
   "nbconvert_exporter": "python",
   "pygments_lexer": "ipython3",
   "version": "3.7.2"
  }
 },
 "nbformat": 4,
 "nbformat_minor": 2
}
