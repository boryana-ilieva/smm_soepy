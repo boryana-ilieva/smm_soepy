{
 "cells": [
  {
   "cell_type": "code",
   "execution_count": 4,
   "metadata": {},
   "outputs": [],
   "source": [
    "import numpy as np\n",
    "\n",
    "from smm.smm_auxiliary import update_optim_paras"
   ]
  },
  {
   "cell_type": "code",
   "execution_count": 5,
   "metadata": {},
   "outputs": [],
   "source": [
    "optim_paras = np.tile(\n",
    "    (\n",
    "        1.792,\n",
    "        1.808,\n",
    "        1.856,\n",
    "        0.112,\n",
    "        0.199,\n",
    "        0.266,\n",
    "        0.150,\n",
    "        0.096,\n",
    "        0.116,\n",
    "        0.081,\n",
    "        0.057,\n",
    "        0.073,\n",
    "        1.88,\n",
    "        2.33,\n",
    "        -0.200,\n",
    "        -0.500,\n",
    "        0.5,\n",
    "        0.010,\n",
    "        0.200,\n",
    "        0.400,\n",
    "    ),\n",
    "    1,\n",
    ")"
   ]
  },
  {
   "cell_type": "code",
   "execution_count": 6,
   "metadata": {},
   "outputs": [],
   "source": [
    "update_optim_paras(\"/Users/boryanailieva/Projects/smm_soepy/working/sim_toy_model_init_file_1000.yml\", optim_paras)"
   ]
  },
  {
   "cell_type": "code",
   "execution_count": 9,
   "metadata": {},
   "outputs": [
    {
     "ename": "SyntaxError",
     "evalue": "invalid syntax (<ipython-input-9-fda1df9a5a3f>, line 1)",
     "output_type": "error",
     "traceback": [
      "\u001b[0;36m  File \u001b[0;32m\"<ipython-input-9-fda1df9a5a3f>\"\u001b[0;36m, line \u001b[0;32m1\u001b[0m\n\u001b[0;31m    source activate soepy\u001b[0m\n\u001b[0m                  ^\u001b[0m\n\u001b[0;31mSyntaxError\u001b[0m\u001b[0;31m:\u001b[0m invalid syntax\n"
     ]
    }
   ],
   "source": []
  },
  {
   "cell_type": "code",
   "execution_count": null,
   "metadata": {},
   "outputs": [],
   "source": []
  }
 ],
 "metadata": {
  "kernelspec": {
   "display_name": "Python [conda env:smm_soepy] *",
   "language": "python",
   "name": "conda-env-smm_soepy-py"
  },
  "language_info": {
   "codemirror_mode": {
    "name": "ipython",
    "version": 3
   },
   "file_extension": ".py",
   "mimetype": "text/x-python",
   "name": "python",
   "nbconvert_exporter": "python",
   "pygments_lexer": "ipython3",
   "version": "3.7.2"
  }
 },
 "nbformat": 4,
 "nbformat_minor": 2
}
