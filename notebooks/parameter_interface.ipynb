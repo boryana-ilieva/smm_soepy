{
 "cells": [
  {
   "cell_type": "code",
   "execution_count": 1,
   "metadata": {},
   "outputs": [],
   "source": [
    "import yaml\n",
    "import collections\n",
    "\n",
    "import pandas as pd"
   ]
  },
  {
   "cell_type": "code",
   "execution_count": 2,
   "metadata": {},
   "outputs": [],
   "source": [
    "def read_init_file(init_file_name):\n",
    "    \"\"\"Reads in the model specification from yaml file\"\"\"\n",
    "\n",
    "    # Import yaml initialization file as dictionary init_dict\n",
    "    if isinstance(init_file_name, str):\n",
    "        with open(init_file_name) as y:\n",
    "            init_dict = yaml.load(y, Loader=yaml.FullLoader)\n",
    "    else:\n",
    "        init_dict = init_file_name\n",
    "\n",
    "    init_dict = expand_init_dict(init_dict)\n",
    "\n",
    "    model_params = create_namedtuple(init_dict)\n",
    "\n",
    "    return model_params\n",
    "\n",
    "\n",
    "def flatten_init_dict(init_dict):\n",
    "    \"\"\"Removes the grouping from the nested dictionary\"\"\"\n",
    "\n",
    "    groups = [\n",
    "        \"GENERAL\",\n",
    "        \"CONSTANTS\",\n",
    "        \"INITIAL_CONDITIONS\",\n",
    "        \"SIMULATION\",\n",
    "        \"SOLUTION\",\n",
    "    ]\n",
    "\n",
    "    model_spec = dict()\n",
    "\n",
    "    for group in groups:\n",
    "\n",
    "        keys_ = list(init_dict[group].keys())\n",
    "        values_ = list(init_dict[group].values())\n",
    "\n",
    "        for k_, key_ in enumerate(keys_):\n",
    "\n",
    "            model_spec[key_] = values_[k_]\n",
    "\n",
    "    return model_spec\n",
    "\n",
    "\n",
    "def dict_to_namedtuple(dictionary):\n",
    "    \"\"\"Coverts non-nested dictionary to namedtuple\"\"\"\n",
    "\n",
    "    return collections.namedtuple(\"model_specification\", dictionary.keys())(**dictionary)\n"
   ]
  },
  {
   "cell_type": "markdown",
   "metadata": {},
   "source": [
    "Import yaml file as init dict\n",
    "--------------------------------"
   ]
  },
  {
   "cell_type": "code",
   "execution_count": 3,
   "metadata": {},
   "outputs": [],
   "source": [
    "# Import yaml initialization file as dictionary init_dict\n",
    "\n",
    "with open('sim_toy_model_init_file_1000_estimagic.yml') as y:\n",
    "    init_dict = yaml.load(y, Loader=yaml.FullLoader)"
   ]
  },
  {
   "cell_type": "code",
   "execution_count": 4,
   "metadata": {},
   "outputs": [
    {
     "data": {
      "text/plain": [
       "{'GENERAL': {'num_periods': 30},\n",
       " 'CONSTANTS': {'delta': 0.98, 'mu': -0.56, 'benefits': 4.5},\n",
       " 'INITIAL_CONDITIONS': {'educ_max': 16, 'educ_min': 10},\n",
       " 'SIMULATION': {'seed_sim': 102, 'num_agents_sim': 1000},\n",
       " 'SOLUTION': {'seed_emax': 635, 'num_draws_emax': 500},\n",
       " 'PARAMETERS': {'const_wage_eq': {'gamma_0s1': [1.792, 'False', 1.0, 3.0],\n",
       "   'gamma_0s2': [1.808, 'False', 1.0, 3.0],\n",
       "   'gamma_0s3': [1.856, 'False', 1.0, 3.0]},\n",
       "  'exp_returns': {'gamma_1s1': [0.122, 'False', 0.05, 0.4],\n",
       "   'gamma_1s2': [0.199, 'False', 0.05, 0.4],\n",
       "   'gamma_1s3': [0.266, 'False', 0.05, 0.4]},\n",
       "  'exp_accm': {'g_s1': [0.2, 'False', 0.005, 0.6],\n",
       "   'g_s2': [0.2, 'False', 0.005, 0.6],\n",
       "   'g_s3': [0.2, 'False', 0.005, 0.6]},\n",
       "  'exp_deprec': {'delta_s1': [0.081, 'False', 0.001, 0.15],\n",
       "   'delta_s2': [0.057, 'False', 0.001, 0.15],\n",
       "   'delta_s3': [0.073, 'False', 0.001, 0.15]},\n",
       "  'diutil_work': {'const_p': [1.88, 'False', 1.0, 4.0],\n",
       "   'const_f': [2.33, 'False', 1.0, 4.0]},\n",
       "  'hetrg_unobs': {'theta_p1': [-0.2, 'False', -0.4, -0.05],\n",
       "   'theta_f1': [-0.5, 'False', -0.8, -0.15],\n",
       "   'share_1': [0.5, 'False', 0.001, 0.999]},\n",
       "  'sd_wage_shock': {'sigma_1': [0.01, 'False', 0.001, 0.8],\n",
       "   'sigma_2': [0.2, 'False', 0.001, 0.8],\n",
       "   'sigma_3': [0.4, 'False', 0.001, 0.8]}}}"
      ]
     },
     "execution_count": 4,
     "metadata": {},
     "output_type": "execute_result"
    }
   ],
   "source": [
    "init_dict"
   ]
  },
  {
   "cell_type": "markdown",
   "metadata": {},
   "source": [
    "Extract model specification parameters as namedtuple\n",
    "-----------------------------------------------------------------"
   ]
  },
  {
   "cell_type": "code",
   "execution_count": 5,
   "metadata": {},
   "outputs": [],
   "source": [
    "model_spec = flatten_init_dict(init_dict)"
   ]
  },
  {
   "cell_type": "code",
   "execution_count": 6,
   "metadata": {},
   "outputs": [],
   "source": [
    "model_spec = dict_to_namedtuple(model_spec)"
   ]
  },
  {
   "cell_type": "code",
   "execution_count": 7,
   "metadata": {},
   "outputs": [
    {
     "data": {
      "text/plain": [
       "model_specification(num_periods=30, delta=0.98, mu=-0.56, benefits=4.5, educ_max=16, educ_min=10, seed_sim=102, num_agents_sim=1000, seed_emax=635, num_draws_emax=500)"
      ]
     },
     "execution_count": 7,
     "metadata": {},
     "output_type": "execute_result"
    }
   ],
   "source": [
    "model_spec"
   ]
  },
  {
   "cell_type": "markdown",
   "metadata": {},
   "source": [
    "Extract estimation parameters as multiindex data frame\n",
    "------------------------------------------------------------------"
   ]
  },
  {
   "cell_type": "code",
   "execution_count": 8,
   "metadata": {},
   "outputs": [],
   "source": [
    "estim_paras = init_dict['PARAMETERS']"
   ]
  },
  {
   "cell_type": "code",
   "execution_count": 9,
   "metadata": {},
   "outputs": [
    {
     "data": {
      "text/plain": [
       "{'const_wage_eq': {'gamma_0s1': [1.792, 'False', 1.0, 3.0],\n",
       "  'gamma_0s2': [1.808, 'False', 1.0, 3.0],\n",
       "  'gamma_0s3': [1.856, 'False', 1.0, 3.0]},\n",
       " 'exp_returns': {'gamma_1s1': [0.122, 'False', 0.05, 0.4],\n",
       "  'gamma_1s2': [0.199, 'False', 0.05, 0.4],\n",
       "  'gamma_1s3': [0.266, 'False', 0.05, 0.4]},\n",
       " 'exp_accm': {'g_s1': [0.2, 'False', 0.005, 0.6],\n",
       "  'g_s2': [0.2, 'False', 0.005, 0.6],\n",
       "  'g_s3': [0.2, 'False', 0.005, 0.6]},\n",
       " 'exp_deprec': {'delta_s1': [0.081, 'False', 0.001, 0.15],\n",
       "  'delta_s2': [0.057, 'False', 0.001, 0.15],\n",
       "  'delta_s3': [0.073, 'False', 0.001, 0.15]},\n",
       " 'diutil_work': {'const_p': [1.88, 'False', 1.0, 4.0],\n",
       "  'const_f': [2.33, 'False', 1.0, 4.0]},\n",
       " 'hetrg_unobs': {'theta_p1': [-0.2, 'False', -0.4, -0.05],\n",
       "  'theta_f1': [-0.5, 'False', -0.8, -0.15],\n",
       "  'share_1': [0.5, 'False', 0.001, 0.999]},\n",
       " 'sd_wage_shock': {'sigma_1': [0.01, 'False', 0.001, 0.8],\n",
       "  'sigma_2': [0.2, 'False', 0.001, 0.8],\n",
       "  'sigma_3': [0.4, 'False', 0.001, 0.8]}}"
      ]
     },
     "execution_count": 9,
     "metadata": {},
     "output_type": "execute_result"
    }
   ],
   "source": [
    "estim_paras"
   ]
  },
  {
   "cell_type": "code",
   "execution_count": 10,
   "metadata": {},
   "outputs": [],
   "source": [
    "def transform_estim_paras_dict(estim_paras):\n",
    "    \"\"\"Transforms nested dictionary of parameters to estimate\n",
    "    into a dictionary with double value key\n",
    "    corresponding to category and name.\"\"\"\n",
    "    \n",
    "    estim_paras_dict_transformed = {(outerKey, innerKey): values for outerKey, innerDict in estim_paras.items() for innerKey, values in innerDict.items()}\n",
    "    \n",
    "    return estim_paras_dict_transformed"
   ]
  },
  {
   "cell_type": "code",
   "execution_count": 11,
   "metadata": {},
   "outputs": [
    {
     "data": {
      "text/plain": [
       "{('const_wage_eq', 'gamma_0s1'): [1.792, 'False', 1.0, 3.0],\n",
       " ('const_wage_eq', 'gamma_0s2'): [1.808, 'False', 1.0, 3.0],\n",
       " ('const_wage_eq', 'gamma_0s3'): [1.856, 'False', 1.0, 3.0],\n",
       " ('exp_returns', 'gamma_1s1'): [0.122, 'False', 0.05, 0.4],\n",
       " ('exp_returns', 'gamma_1s2'): [0.199, 'False', 0.05, 0.4],\n",
       " ('exp_returns', 'gamma_1s3'): [0.266, 'False', 0.05, 0.4],\n",
       " ('exp_accm', 'g_s1'): [0.2, 'False', 0.005, 0.6],\n",
       " ('exp_accm', 'g_s2'): [0.2, 'False', 0.005, 0.6],\n",
       " ('exp_accm', 'g_s3'): [0.2, 'False', 0.005, 0.6],\n",
       " ('exp_deprec', 'delta_s1'): [0.081, 'False', 0.001, 0.15],\n",
       " ('exp_deprec', 'delta_s2'): [0.057, 'False', 0.001, 0.15],\n",
       " ('exp_deprec', 'delta_s3'): [0.073, 'False', 0.001, 0.15],\n",
       " ('diutil_work', 'const_p'): [1.88, 'False', 1.0, 4.0],\n",
       " ('diutil_work', 'const_f'): [2.33, 'False', 1.0, 4.0],\n",
       " ('hetrg_unobs', 'theta_p1'): [-0.2, 'False', -0.4, -0.05],\n",
       " ('hetrg_unobs', 'theta_f1'): [-0.5, 'False', -0.8, -0.15],\n",
       " ('hetrg_unobs', 'share_1'): [0.5, 'False', 0.001, 0.999],\n",
       " ('sd_wage_shock', 'sigma_1'): [0.01, 'False', 0.001, 0.8],\n",
       " ('sd_wage_shock', 'sigma_2'): [0.2, 'False', 0.001, 0.8],\n",
       " ('sd_wage_shock', 'sigma_3'): [0.4, 'False', 0.001, 0.8]}"
      ]
     },
     "execution_count": 11,
     "metadata": {},
     "output_type": "execute_result"
    }
   ],
   "source": [
    "estim_paras_dict_transformed = transform_estim_paras_dict(estim_paras)\n",
    "estim_paras_dict_transformed"
   ]
  },
  {
   "cell_type": "code",
   "execution_count": 12,
   "metadata": {},
   "outputs": [],
   "source": [
    "estim_paras_df = pd.DataFrame(estim_paras_dict_transformed, index = ['value', 'fixed', 'lower', 'upper']).T"
   ]
  },
  {
   "cell_type": "code",
   "execution_count": 13,
   "metadata": {},
   "outputs": [
    {
     "data": {
      "text/html": [
       "<div>\n",
       "<style scoped>\n",
       "    .dataframe tbody tr th:only-of-type {\n",
       "        vertical-align: middle;\n",
       "    }\n",
       "\n",
       "    .dataframe tbody tr th {\n",
       "        vertical-align: top;\n",
       "    }\n",
       "\n",
       "    .dataframe thead th {\n",
       "        text-align: right;\n",
       "    }\n",
       "</style>\n",
       "<table border=\"1\" class=\"dataframe\">\n",
       "  <thead>\n",
       "    <tr style=\"text-align: right;\">\n",
       "      <th></th>\n",
       "      <th></th>\n",
       "      <th>value</th>\n",
       "      <th>fixed</th>\n",
       "      <th>lower</th>\n",
       "      <th>upper</th>\n",
       "    </tr>\n",
       "  </thead>\n",
       "  <tbody>\n",
       "    <tr>\n",
       "      <th rowspan=\"3\" valign=\"top\">const_wage_eq</th>\n",
       "      <th>gamma_0s1</th>\n",
       "      <td>1.792</td>\n",
       "      <td>False</td>\n",
       "      <td>1</td>\n",
       "      <td>3</td>\n",
       "    </tr>\n",
       "    <tr>\n",
       "      <th>gamma_0s2</th>\n",
       "      <td>1.808</td>\n",
       "      <td>False</td>\n",
       "      <td>1</td>\n",
       "      <td>3</td>\n",
       "    </tr>\n",
       "    <tr>\n",
       "      <th>gamma_0s3</th>\n",
       "      <td>1.856</td>\n",
       "      <td>False</td>\n",
       "      <td>1</td>\n",
       "      <td>3</td>\n",
       "    </tr>\n",
       "    <tr>\n",
       "      <th rowspan=\"3\" valign=\"top\">exp_returns</th>\n",
       "      <th>gamma_1s1</th>\n",
       "      <td>0.122</td>\n",
       "      <td>False</td>\n",
       "      <td>0.05</td>\n",
       "      <td>0.4</td>\n",
       "    </tr>\n",
       "    <tr>\n",
       "      <th>gamma_1s2</th>\n",
       "      <td>0.199</td>\n",
       "      <td>False</td>\n",
       "      <td>0.05</td>\n",
       "      <td>0.4</td>\n",
       "    </tr>\n",
       "    <tr>\n",
       "      <th>gamma_1s3</th>\n",
       "      <td>0.266</td>\n",
       "      <td>False</td>\n",
       "      <td>0.05</td>\n",
       "      <td>0.4</td>\n",
       "    </tr>\n",
       "    <tr>\n",
       "      <th rowspan=\"3\" valign=\"top\">exp_accm</th>\n",
       "      <th>g_s1</th>\n",
       "      <td>0.2</td>\n",
       "      <td>False</td>\n",
       "      <td>0.005</td>\n",
       "      <td>0.6</td>\n",
       "    </tr>\n",
       "    <tr>\n",
       "      <th>g_s2</th>\n",
       "      <td>0.2</td>\n",
       "      <td>False</td>\n",
       "      <td>0.005</td>\n",
       "      <td>0.6</td>\n",
       "    </tr>\n",
       "    <tr>\n",
       "      <th>g_s3</th>\n",
       "      <td>0.2</td>\n",
       "      <td>False</td>\n",
       "      <td>0.005</td>\n",
       "      <td>0.6</td>\n",
       "    </tr>\n",
       "    <tr>\n",
       "      <th rowspan=\"3\" valign=\"top\">exp_deprec</th>\n",
       "      <th>delta_s1</th>\n",
       "      <td>0.081</td>\n",
       "      <td>False</td>\n",
       "      <td>0.001</td>\n",
       "      <td>0.15</td>\n",
       "    </tr>\n",
       "    <tr>\n",
       "      <th>delta_s2</th>\n",
       "      <td>0.057</td>\n",
       "      <td>False</td>\n",
       "      <td>0.001</td>\n",
       "      <td>0.15</td>\n",
       "    </tr>\n",
       "    <tr>\n",
       "      <th>delta_s3</th>\n",
       "      <td>0.073</td>\n",
       "      <td>False</td>\n",
       "      <td>0.001</td>\n",
       "      <td>0.15</td>\n",
       "    </tr>\n",
       "    <tr>\n",
       "      <th rowspan=\"2\" valign=\"top\">diutil_work</th>\n",
       "      <th>const_p</th>\n",
       "      <td>1.88</td>\n",
       "      <td>False</td>\n",
       "      <td>1</td>\n",
       "      <td>4</td>\n",
       "    </tr>\n",
       "    <tr>\n",
       "      <th>const_f</th>\n",
       "      <td>2.33</td>\n",
       "      <td>False</td>\n",
       "      <td>1</td>\n",
       "      <td>4</td>\n",
       "    </tr>\n",
       "    <tr>\n",
       "      <th rowspan=\"3\" valign=\"top\">hetrg_unobs</th>\n",
       "      <th>theta_p1</th>\n",
       "      <td>-0.2</td>\n",
       "      <td>False</td>\n",
       "      <td>-0.4</td>\n",
       "      <td>-0.05</td>\n",
       "    </tr>\n",
       "    <tr>\n",
       "      <th>theta_f1</th>\n",
       "      <td>-0.5</td>\n",
       "      <td>False</td>\n",
       "      <td>-0.8</td>\n",
       "      <td>-0.15</td>\n",
       "    </tr>\n",
       "    <tr>\n",
       "      <th>share_1</th>\n",
       "      <td>0.5</td>\n",
       "      <td>False</td>\n",
       "      <td>0.001</td>\n",
       "      <td>0.999</td>\n",
       "    </tr>\n",
       "    <tr>\n",
       "      <th rowspan=\"3\" valign=\"top\">sd_wage_shock</th>\n",
       "      <th>sigma_1</th>\n",
       "      <td>0.01</td>\n",
       "      <td>False</td>\n",
       "      <td>0.001</td>\n",
       "      <td>0.8</td>\n",
       "    </tr>\n",
       "    <tr>\n",
       "      <th>sigma_2</th>\n",
       "      <td>0.2</td>\n",
       "      <td>False</td>\n",
       "      <td>0.001</td>\n",
       "      <td>0.8</td>\n",
       "    </tr>\n",
       "    <tr>\n",
       "      <th>sigma_3</th>\n",
       "      <td>0.4</td>\n",
       "      <td>False</td>\n",
       "      <td>0.001</td>\n",
       "      <td>0.8</td>\n",
       "    </tr>\n",
       "  </tbody>\n",
       "</table>\n",
       "</div>"
      ],
      "text/plain": [
       "                         value  fixed  lower  upper\n",
       "const_wage_eq gamma_0s1  1.792  False      1      3\n",
       "              gamma_0s2  1.808  False      1      3\n",
       "              gamma_0s3  1.856  False      1      3\n",
       "exp_returns   gamma_1s1  0.122  False   0.05    0.4\n",
       "              gamma_1s2  0.199  False   0.05    0.4\n",
       "              gamma_1s3  0.266  False   0.05    0.4\n",
       "exp_accm      g_s1         0.2  False  0.005    0.6\n",
       "              g_s2         0.2  False  0.005    0.6\n",
       "              g_s3         0.2  False  0.005    0.6\n",
       "exp_deprec    delta_s1   0.081  False  0.001   0.15\n",
       "              delta_s2   0.057  False  0.001   0.15\n",
       "              delta_s3   0.073  False  0.001   0.15\n",
       "diutil_work   const_p     1.88  False      1      4\n",
       "              const_f     2.33  False      1      4\n",
       "hetrg_unobs   theta_p1    -0.2  False   -0.4  -0.05\n",
       "              theta_f1    -0.5  False   -0.8  -0.15\n",
       "              share_1      0.5  False  0.001  0.999\n",
       "sd_wage_shock sigma_1     0.01  False  0.001    0.8\n",
       "              sigma_2      0.2  False  0.001    0.8\n",
       "              sigma_3      0.4  False  0.001    0.8"
      ]
     },
     "execution_count": 13,
     "metadata": {},
     "output_type": "execute_result"
    }
   ],
   "source": [
    "estim_paras_df"
   ]
  },
  {
   "cell_type": "markdown",
   "metadata": {},
   "source": [
    "Example usage in functions\n",
    "--------------------------------"
   ]
  },
  {
   "cell_type": "code",
   "execution_count": 14,
   "metadata": {},
   "outputs": [],
   "source": [
    "import numpy as np"
   ]
  },
  {
   "cell_type": "code",
   "execution_count": 15,
   "metadata": {},
   "outputs": [],
   "source": [
    "# Set example values\n",
    "states = [1, 12, 2, 0, 1, 1]\n",
    "covariates = 12"
   ]
  },
  {
   "cell_type": "code",
   "execution_count": 18,
   "metadata": {},
   "outputs": [],
   "source": [
    "def calculate_log_wage_systematic(model_spec, estim_paras_df, states, covariates):\n",
    "    \"\"\"Calculate systematic wages, i.e., wages net of shock, for all states.\"\"\"\n",
    "\n",
    "    exp_p, exp_f = states[3], states[4]\n",
    "    educ_level = covariates - model_spec.educ_min\n",
    "\n",
    "    # Construct wage components\n",
    "    gamma_0s = estim_paras_df.loc[('const_wage_eq'),'value'].to_numpy()[educ_level]\n",
    "    gamma_1s = estim_paras_df.loc[('const_wage_eq'),'value'].to_numpy()[educ_level]\n",
    "    period_exp_sum = exp_p * estim_paras_df.loc[('exp_accm'),'value'].to_numpy()[educ_level] + exp_f\n",
    "    depreciation = 1 - estim_paras_df.loc[('exp_deprec'),'value'].to_numpy()[educ_level]\n",
    "\n",
    "    # Calculate wage in the given state\n",
    "    period_exp_total = period_exp_sum * depreciation + 1\n",
    "    returns_to_exp = gamma_1s * np.log(period_exp_total)\n",
    "    log_wage_systematic = gamma_0s + returns_to_exp\n",
    "\n",
    "    return log_wage_systematic"
   ]
  },
  {
   "cell_type": "code",
   "execution_count": 20,
   "metadata": {},
   "outputs": [
    {
     "data": {
      "text/plain": [
       "3.073469906786218"
      ]
     },
     "execution_count": 20,
     "metadata": {},
     "output_type": "execute_result"
    }
   ],
   "source": [
    "test = calculate_log_wage_systematic(model_spec, estim_paras_df, states, covariates)\n",
    "test"
   ]
  }
 ],
 "metadata": {
  "kernelspec": {
   "display_name": "Python [conda env:soepy]",
   "language": "python",
   "name": "conda-env-soepy-py"
  },
  "language_info": {
   "codemirror_mode": {
    "name": "ipython",
    "version": 3
   },
   "file_extension": ".py",
   "mimetype": "text/x-python",
   "name": "python",
   "nbconvert_exporter": "python",
   "pygments_lexer": "ipython3",
   "version": "3.7.2"
  }
 },
 "nbformat": 4,
 "nbformat_minor": 2
}
