{
 "cells": [
  {
   "cell_type": "code",
   "execution_count": 15,
   "metadata": {},
   "outputs": [],
   "source": [
    "import logging\n",
    "\n",
    "import pandas as pd\n",
    "import numpy as np\n",
    "\n",
    "import soepy"
   ]
  },
  {
   "cell_type": "markdown",
   "metadata": {},
   "source": [
    "Pre processing"
   ]
  },
  {
   "cell_type": "code",
   "execution_count": 2,
   "metadata": {},
   "outputs": [],
   "source": [
    "def pre_process_data(data):\n",
    "    \"\"\"This function perform auxiliary calculations given a data set\n",
    "    and generates additional variable needed for the calculation of \n",
    "    moments\"\"\"\n",
    "    \n",
    "    # Determine the education level given years of experience\n",
    "    data[\"Educ_Level\"] = 0\n",
    "    data.loc[data[\"Years_of_Education\"] == 11, \"Educ_Level\"] = 1\n",
    "    data.loc[data[\"Years_of_Education\"] == 12, \"Educ_Level\"] = 2\n",
    "\n",
    "    # Determine the observed wage given period choice\n",
    "    data[\"Wage_Observed\"] = 0\n",
    "    data.loc[data[\"Choice\"] == 0, \"Wage_Observed\"] = data.loc[data[\"Choice\"] == 0, \"Period_Wage_N\"]\n",
    "    data.loc[data[\"Choice\"] == 1, \"Wage_Observed\"] = data.loc[data[\"Choice\"] == 1, \"Period_Wage_P\"]\n",
    "    data.loc[data[\"Choice\"] == 2, \"Wage_Observed\"] = data.loc[data[\"Choice\"] == 2, \"Period_Wage_F\"]\n",
    "    \n",
    "    return data"
   ]
  },
  {
   "cell_type": "markdown",
   "metadata": {},
   "source": [
    "Moments"
   ]
  },
  {
   "cell_type": "code",
   "execution_count": 3,
   "metadata": {},
   "outputs": [],
   "source": [
    "def get_moments(data):\n",
    "    # Initialize moments dictionary\n",
    "    moments = dict()\n",
    "\n",
    "    # Store moments in groups as nested dictionary\n",
    "    for group in [\n",
    "        \"Wage_Distribution\",\n",
    "        \"Choice_Probability\",\n",
    "    ]:\n",
    "        moments[group] = dict()\n",
    "    \n",
    "    \n",
    "    # Compute unconditional moments of the wage distribution\n",
    "    info = data.groupby([\"Period\"])[\"Wage_Observed\"].describe().to_dict()\n",
    "\n",
    "    # Save mean and standard deviation of wages for each period\n",
    "    # to Wage Distribution section of the moments dictionary\n",
    "    for period in range(40): ## TO DO: Remove hard coded number\n",
    "        moments[\"Wage_Distribution\"][period] = []\n",
    "        try:\n",
    "            for label in [\"mean\", \"std\"]:\n",
    "                moments[\"Wage_Distribution\"][period].append(info[label][period])\n",
    "        except KeyError:\n",
    "            for i in range(2):\n",
    "                moments[\"Wage_Distribution\"][period].append(\n",
    "                    0.0\n",
    "                )\n",
    "    \n",
    "    \n",
    "    # Compute unconditional moments of the choice probabilities\n",
    "    info = data.groupby([\"Period\"])[\"Choice\"].value_counts(normalize=True).to_dict()\n",
    "\n",
    "    for period in range(40): ## TO DO: Remove hard coded number\n",
    "        moments[\"Choice_Probability\"][period] = []\n",
    "        for choice in range(3):\n",
    "            try:\n",
    "                stat = info[(period, choice)]\n",
    "            except KeyError:\n",
    "                stat = 0.00\n",
    "            moments[\"Choice_Probability\"][period].append(stat)\n",
    "        \n",
    "    return moments"
   ]
  },
  {
   "cell_type": "markdown",
   "metadata": {},
   "source": [
    "Weighting matrix"
   ]
  },
  {
   "cell_type": "code",
   "execution_count": 10,
   "metadata": {},
   "outputs": [],
   "source": [
    "def get_weighting_matrix(data, num_agents_smm, num_samples):\n",
    "    \"\"\"Calculates the weighting matrix based on the\n",
    "    moments of the observed data\"\"\"\n",
    "\n",
    "    moments_sample = []\n",
    "\n",
    "    # Collect n samples of moments\n",
    "    for k in range(num_samples):\n",
    "        data_sample = data.sample(n=num_agents_smm)\n",
    "\n",
    "        moments_sample_k = get_moments(data_sample)\n",
    "\n",
    "        moments_sample.append(moments_sample_k)\n",
    "\n",
    "        k = +1\n",
    "\n",
    "    # Append samples to a list of size num_samples\n",
    "    # containing number of moments values each\n",
    "    stats = []\n",
    "\n",
    "    for moments_sample_k in moments_sample:\n",
    "        stats.append(moments_dict_to_list(moments_sample_k))\n",
    "\n",
    "    # Calculate sample variances for each moment\n",
    "    moments_var = np.array(stats).var(axis=0)\n",
    "\n",
    "    # Handling of nan\n",
    "    moments_var[np.isnan(moments_var)] = np.nanmax(moments_var)\n",
    "\n",
    "    # Handling of zero variances\n",
    "    is_zero = moments_var <= 1e-10\n",
    "    moments_var[is_zero] = 0.1\n",
    "\n",
    "    # Construct weighting matrix\n",
    "    weighting_matrix = np.diag(moments_var ** (-1))\n",
    "\n",
    "    return weighting_matrix\n",
    "\n",
    "\n",
    "def moments_dict_to_list(moments_dict):\n",
    "    \"\"\"This function constructs a list of available moments based on the moment dictionary.\"\"\"\n",
    "    moments_list = []\n",
    "    for group in [\n",
    "        \"Wage_Distribution\",\n",
    "        \"Choice_Probability\",\n",
    "    ]:\n",
    "        for period in sorted(moments_dict[group].keys()):\n",
    "            moments_list.extend(moments_dict[group][period])\n",
    "    return moments_list\n"
   ]
  },
  {
   "cell_type": "code",
   "execution_count": 11,
   "metadata": {},
   "outputs": [],
   "source": [
    "def update_optim_paras(model_params_init_file_name, optim_paras):\n",
    "    \"\"\"Update the parameters with values of \n",
    "    the current optimizer iteration\"\"\"\n",
    "\n",
    "    model_params_df = pd.read_pickle(model_params_init_file_name)\n",
    "\n",
    "    model_params_df.loc[\"const_wage_eq\", \"gamma_0s1\"] = optim_paras.item(0)\n",
    "    model_params_df.loc[\"const_wage_eq\", \"gamma_0s2\"] = optim_paras.item(1)\n",
    "    model_params_df.loc[\"const_wage_eq\", \"gamma_0s3\"] = optim_paras.item(2)\n",
    "    model_params_df.loc[\"exp_returns\", \"gamma_1s1\"] = optim_paras.item(3)\n",
    "    model_params_df.loc[\"exp_returns\", \"gamma_1s2\"] = optim_paras.item(4)\n",
    "    model_params_df.loc[\"exp_returns\", \"gamma_1s3\"] = optim_paras.item(5)\n",
    "    model_params_df.loc[\"exp_accm\", \"g_s1\"] = optim_paras.item(6)\n",
    "    model_params_df.loc[\"exp_accm\", \"g_s2\"] = optim_paras.item(7)\n",
    "    model_params_df.loc[\"exp_accm\", \"g_s3\"] = optim_paras.item(8)\n",
    "    model_params_df.loc[\"exp_deprec\", \"delta_s1\"] = optim_paras.item(9)\n",
    "    model_params_df.loc[\"exp_deprec\", \"delta_s2\"] = optim_paras.item(10)\n",
    "    model_params_df.loc[\"exp_deprec\", \"delta_s3\"] = optim_paras.item(11)\n",
    "    model_params_df.loc[\"disutil_work\", \"const_p\"] = optim_paras.item(12)\n",
    "    model_params_df.loc[\"disutil_work\", \"const_f\"] = optim_paras.item(13)\n",
    "    # TO DO: Enable flexible number of types\n",
    "    model_params_df.loc[\"hetrg_unobs\", \"theta_p1\"] = optim_paras.item(14)\n",
    "    model_params_df.loc[\"hetrg_unobs\", \"theta_f1\"] = optim_paras.item(15)\n",
    "    model_params_df.loc[\"hetrg_unobs\", \"theta_p2\"] = optim_paras.item(16)\n",
    "    model_params_df.loc[\"hetrg_unobs\", \"theta_f2\"] = optim_paras.item(17)\n",
    "    model_params_df.loc[\"shares\", \"share_1\"] = optim_paras.item(18)\n",
    "    model_params_df.loc[\"shares\", \"share_2\"] = optim_paras.item(19)\n",
    "    model_params_df.loc[\"shares\", \"sigma_1\"] = optim_paras.item(20)\n",
    "    model_params_df.loc[\"shares\", \"sigma_2\"] = optim_paras.item(21)\n",
    "    model_params_df.loc[\"shares\", \"sigma_3\"] = optim_paras.item(22)\n",
    "\n",
    "    return model_params_df"
   ]
  },
  {
   "cell_type": "markdown",
   "metadata": {},
   "source": [
    "Objective function"
   ]
  },
  {
   "cell_type": "code",
   "execution_count": 12,
   "metadata": {},
   "outputs": [],
   "source": [
    "def get_objective(model_params_init_file_name, model_spec_init_file_name, moments_obs, weighting_matrix, optim_paras):\n",
    "\n",
    "    # Update parameter\n",
    "    model_params_df_updated = update_optim_paras(model_params_init_file_name, optim_paras)\n",
    "\n",
    "    # Generate simulated data set\n",
    "    data_frame_sim = soepy.simulate(model_params_df_updated, \"model_spec_init.yml\")\n",
    "    \n",
    "    # Process data frame\n",
    "    data_frame_sim = pre_process_data(data_frame_sim)\n",
    "\n",
    "    # Calculate simulated moments\n",
    "    moments_sim = get_moments(data_frame_sim)\n",
    "\n",
    "    # Obtain criterion function value\n",
    "    func = calculate_criterion_func_value(moments_sim, moments_obs, weighting_matrix)\n",
    "    \n",
    "    print(func)\n",
    "\n",
    "    return func\n",
    "\n",
    "def calculate_criterion_func_value(moments_sim, moments_obs, weighting_matrix):\n",
    "\n",
    "    # Move all moments from a dictionary to an array\n",
    "    stats_obs, stats_sim = [], []\n",
    "\n",
    "    for group in [\n",
    "        \"Wage_Distribution\",\n",
    "        \"Choice_Probability\",\n",
    "    ]:\n",
    "        for key_ in moments_obs[group].keys():\n",
    "            stats_obs.extend(moments_obs[group][key_])\n",
    "            stats_sim.extend(moments_sim[group][key_])\n",
    "\n",
    "    # Construct criterion value\n",
    "    stats_dif = np.array(stats_obs) - np.array(stats_sim)\n",
    "\n",
    "    func = float(np.dot(np.dot(stats_dif, weighting_matrix), stats_dif))\n",
    "\n",
    "    return func"
   ]
  },
  {
   "cell_type": "code",
   "execution_count": 19,
   "metadata": {},
   "outputs": [
    {
     "name": "stderr",
     "output_type": "stream",
     "text": [
      "Function eval 1 at point 1 has f = 0 at x = [...]\n",
      "Initialising (random directions)\n"
     ]
    },
    {
     "name": "stdout",
     "output_type": "stream",
     "text": [
      "0.0\n"
     ]
    },
    {
     "name": "stderr",
     "output_type": "stream",
     "text": [
      "Function eval 2 at point 2 has f = 0.544038210186347 at x = [...]\n"
     ]
    },
    {
     "name": "stdout",
     "output_type": "stream",
     "text": [
      "0.5440382101863469\n"
     ]
    },
    {
     "name": "stderr",
     "output_type": "stream",
     "text": [
      "Function eval 3 at point 3 has f = 0.2291975558896 at x = [...]\n"
     ]
    },
    {
     "name": "stdout",
     "output_type": "stream",
     "text": [
      "0.22919755588960036\n"
     ]
    },
    {
     "name": "stderr",
     "output_type": "stream",
     "text": [
      "Function eval 4 at point 4 has f = 0.0367150050236972 at x = [...]\n"
     ]
    },
    {
     "name": "stdout",
     "output_type": "stream",
     "text": [
      "0.03671500502369721\n"
     ]
    },
    {
     "name": "stderr",
     "output_type": "stream",
     "text": [
      "Function eval 5 at point 5 has f = 2.61420882995622 at x = [...]\n"
     ]
    },
    {
     "name": "stdout",
     "output_type": "stream",
     "text": [
      "2.6142088299562207\n"
     ]
    },
    {
     "name": "stderr",
     "output_type": "stream",
     "text": [
      "Function eval 6 at point 6 has f = 1.58248410205299 at x = [...]\n"
     ]
    },
    {
     "name": "stdout",
     "output_type": "stream",
     "text": [
      "1.582484102052989\n"
     ]
    },
    {
     "name": "stderr",
     "output_type": "stream",
     "text": [
      "Function eval 7 at point 7 has f = 0.552688728945631 at x = [...]\n"
     ]
    },
    {
     "name": "stdout",
     "output_type": "stream",
     "text": [
      "0.5526887289456313\n"
     ]
    },
    {
     "name": "stderr",
     "output_type": "stream",
     "text": [
      "Function eval 8 at point 8 has f = 0.70361605061733 at x = [...]\n"
     ]
    },
    {
     "name": "stdout",
     "output_type": "stream",
     "text": [
      "0.7036160506173297\n"
     ]
    },
    {
     "name": "stderr",
     "output_type": "stream",
     "text": [
      "Function eval 9 at point 9 has f = 0.151725655226812 at x = [...]\n"
     ]
    },
    {
     "name": "stdout",
     "output_type": "stream",
     "text": [
      "0.15172565522681214\n"
     ]
    },
    {
     "name": "stderr",
     "output_type": "stream",
     "text": [
      "Function eval 10 at point 10 has f = 0.253226514819437 at x = [...]\n"
     ]
    },
    {
     "name": "stdout",
     "output_type": "stream",
     "text": [
      "0.25322651481943664\n"
     ]
    },
    {
     "name": "stderr",
     "output_type": "stream",
     "text": [
      "Function eval 11 at point 11 has f = 0.961749496777493 at x = [...]\n"
     ]
    },
    {
     "name": "stdout",
     "output_type": "stream",
     "text": [
      "0.9617494967774933\n"
     ]
    },
    {
     "name": "stderr",
     "output_type": "stream",
     "text": [
      "Function eval 12 at point 12 has f = 1.63538451060605 at x = [...]\n"
     ]
    },
    {
     "name": "stdout",
     "output_type": "stream",
     "text": [
      "1.6353845106060534\n"
     ]
    },
    {
     "name": "stderr",
     "output_type": "stream",
     "text": [
      "Function eval 13 at point 13 has f = 2.65555867840822 at x = [...]\n"
     ]
    },
    {
     "name": "stdout",
     "output_type": "stream",
     "text": [
      "2.655558678408222\n"
     ]
    },
    {
     "name": "stderr",
     "output_type": "stream",
     "text": [
      "Function eval 14 at point 14 has f = 0.255579384709831 at x = [...]\n"
     ]
    },
    {
     "name": "stdout",
     "output_type": "stream",
     "text": [
      "0.25557938470983055\n"
     ]
    },
    {
     "name": "stderr",
     "output_type": "stream",
     "text": [
      "Function eval 15 at point 15 has f = 0.771883113733485 at x = [...]\n"
     ]
    },
    {
     "name": "stdout",
     "output_type": "stream",
     "text": [
      "0.7718831137334847\n"
     ]
    },
    {
     "name": "stderr",
     "output_type": "stream",
     "text": [
      "Function eval 16 at point 16 has f = 0.120272086600437 at x = [...]\n"
     ]
    },
    {
     "name": "stdout",
     "output_type": "stream",
     "text": [
      "0.12027208660043673\n"
     ]
    },
    {
     "name": "stderr",
     "output_type": "stream",
     "text": [
      "Function eval 17 at point 17 has f = 0.119483889389412 at x = [...]\n"
     ]
    },
    {
     "name": "stdout",
     "output_type": "stream",
     "text": [
      "0.11948388938941225\n"
     ]
    },
    {
     "name": "stderr",
     "output_type": "stream",
     "text": [
      "Function eval 18 at point 18 has f = 1.87078125174096 at x = [...]\n"
     ]
    },
    {
     "name": "stdout",
     "output_type": "stream",
     "text": [
      "1.8707812517409568\n"
     ]
    },
    {
     "name": "stderr",
     "output_type": "stream",
     "text": [
      "Function eval 19 at point 19 has f = 0.287347010837911 at x = [...]\n"
     ]
    },
    {
     "name": "stdout",
     "output_type": "stream",
     "text": [
      "0.2873470108379107\n"
     ]
    },
    {
     "name": "stderr",
     "output_type": "stream",
     "text": [
      "Function eval 20 at point 20 has f = 0.782671106382977 at x = [...]\n"
     ]
    },
    {
     "name": "stdout",
     "output_type": "stream",
     "text": [
      "0.782671106382977\n"
     ]
    },
    {
     "name": "stderr",
     "output_type": "stream",
     "text": [
      "Function eval 21 at point 21 has f = 0.201667421329192 at x = [...]\n"
     ]
    },
    {
     "name": "stdout",
     "output_type": "stream",
     "text": [
      "0.2016674213291919\n"
     ]
    },
    {
     "name": "stderr",
     "output_type": "stream",
     "text": [
      "Function eval 22 at point 22 has f = 0.0542659995946127 at x = [...]\n"
     ]
    },
    {
     "name": "stdout",
     "output_type": "stream",
     "text": [
      "0.054265999594612674\n"
     ]
    },
    {
     "name": "stderr",
     "output_type": "stream",
     "text": [
      "Function eval 23 at point 23 has f = 0.50104545509249 at x = [...]\n"
     ]
    },
    {
     "name": "stdout",
     "output_type": "stream",
     "text": [
      "0.5010454550924895\n"
     ]
    },
    {
     "name": "stderr",
     "output_type": "stream",
     "text": [
      "Function eval 24 at point 24 has f = 0.0795562784503095 at x = [...]\n"
     ]
    },
    {
     "name": "stdout",
     "output_type": "stream",
     "text": [
      "0.07955627845030949\n"
     ]
    },
    {
     "name": "stderr",
     "output_type": "stream",
     "text": [
      "Function eval 25 at point 25 has f = 0.402265999743835 at x = [...]\n"
     ]
    },
    {
     "name": "stdout",
     "output_type": "stream",
     "text": [
      "0.4022659997438349\n"
     ]
    },
    {
     "name": "stderr",
     "output_type": "stream",
     "text": [
      "Function eval 26 at point 26 has f = 0.201223538655268 at x = [...]\n"
     ]
    },
    {
     "name": "stdout",
     "output_type": "stream",
     "text": [
      "0.20122353865526782\n"
     ]
    },
    {
     "name": "stderr",
     "output_type": "stream",
     "text": [
      "Function eval 27 at point 27 has f = 0.072033959892157 at x = [...]\n"
     ]
    },
    {
     "name": "stdout",
     "output_type": "stream",
     "text": [
      "0.07203395989215702\n"
     ]
    },
    {
     "name": "stderr",
     "output_type": "stream",
     "text": [
      "Function eval 28 at point 28 has f = 2.21552308883276 at x = [...]\n"
     ]
    },
    {
     "name": "stdout",
     "output_type": "stream",
     "text": [
      "2.2155230888327595\n"
     ]
    },
    {
     "name": "stderr",
     "output_type": "stream",
     "text": [
      "Function eval 29 at point 29 has f = 1.14327310213556 at x = [...]\n"
     ]
    },
    {
     "name": "stdout",
     "output_type": "stream",
     "text": [
      "1.1432731021355602\n"
     ]
    },
    {
     "name": "stderr",
     "output_type": "stream",
     "text": [
      "Function eval 30 at point 30 has f = 0.772014037024081 at x = [...]\n"
     ]
    },
    {
     "name": "stdout",
     "output_type": "stream",
     "text": [
      "0.7720140370240813\n"
     ]
    },
    {
     "name": "stderr",
     "output_type": "stream",
     "text": [
      "Function eval 31 at point 31 has f = 0.502183208384768 at x = [...]\n"
     ]
    },
    {
     "name": "stdout",
     "output_type": "stream",
     "text": [
      "0.5021832083847685\n"
     ]
    },
    {
     "name": "stderr",
     "output_type": "stream",
     "text": [
      "Function eval 32 at point 32 has f = 0.222116479229891 at x = [...]\n"
     ]
    },
    {
     "name": "stdout",
     "output_type": "stream",
     "text": [
      "0.22211647922989114\n"
     ]
    },
    {
     "name": "stderr",
     "output_type": "stream",
     "text": [
      "Function eval 33 at point 33 has f = 0.120822597962956 at x = [...]\n"
     ]
    },
    {
     "name": "stdout",
     "output_type": "stream",
     "text": [
      "0.12082259796295561\n"
     ]
    },
    {
     "name": "stderr",
     "output_type": "stream",
     "text": [
      "Function eval 34 at point 34 has f = 1.20837525800476 at x = [...]\n"
     ]
    },
    {
     "name": "stdout",
     "output_type": "stream",
     "text": [
      "1.20837525800476\n"
     ]
    },
    {
     "name": "stderr",
     "output_type": "stream",
     "text": [
      "Function eval 35 at point 35 has f = 1.41004092461277 at x = [...]\n"
     ]
    },
    {
     "name": "stdout",
     "output_type": "stream",
     "text": [
      "1.4100409246127703\n"
     ]
    },
    {
     "name": "stderr",
     "output_type": "stream",
     "text": [
      "Function eval 36 at point 36 has f = 2.30473577527944 at x = [...]\n"
     ]
    },
    {
     "name": "stdout",
     "output_type": "stream",
     "text": [
      "2.3047357752794424\n"
     ]
    },
    {
     "name": "stderr",
     "output_type": "stream",
     "text": [
      "Function eval 37 at point 37 has f = 0.328393311941234 at x = [...]\n"
     ]
    },
    {
     "name": "stdout",
     "output_type": "stream",
     "text": [
      "0.3283933119412341\n"
     ]
    },
    {
     "name": "stderr",
     "output_type": "stream",
     "text": [
      "Function eval 38 at point 38 has f = 0.439900234316686 at x = [...]\n"
     ]
    },
    {
     "name": "stdout",
     "output_type": "stream",
     "text": [
      "0.43990023431668634\n"
     ]
    },
    {
     "name": "stderr",
     "output_type": "stream",
     "text": [
      "Function eval 39 at point 39 has f = 0.210128975001106 at x = [...]\n"
     ]
    },
    {
     "name": "stdout",
     "output_type": "stream",
     "text": [
      "0.21012897500110628\n"
     ]
    },
    {
     "name": "stderr",
     "output_type": "stream",
     "text": [
      "Function eval 40 at point 40 has f = 0.234477224952403 at x = [...]\n"
     ]
    },
    {
     "name": "stdout",
     "output_type": "stream",
     "text": [
      "0.23447722495240256\n"
     ]
    },
    {
     "name": "stderr",
     "output_type": "stream",
     "text": [
      "Function eval 41 at point 41 has f = 1.44432596027587 at x = [...]\n"
     ]
    },
    {
     "name": "stdout",
     "output_type": "stream",
     "text": [
      "1.4443259602758673\n"
     ]
    },
    {
     "name": "stderr",
     "output_type": "stream",
     "text": [
      "Function eval 42 at point 42 has f = 0.333527260745407 at x = [...]\n"
     ]
    },
    {
     "name": "stdout",
     "output_type": "stream",
     "text": [
      "0.33352726074540656\n"
     ]
    },
    {
     "name": "stderr",
     "output_type": "stream",
     "text": [
      "Function eval 43 at point 43 has f = 0.616813607306938 at x = [...]\n"
     ]
    },
    {
     "name": "stdout",
     "output_type": "stream",
     "text": [
      "0.616813607306938\n"
     ]
    },
    {
     "name": "stderr",
     "output_type": "stream",
     "text": [
      "Function eval 44 at point 44 has f = 0.136352906190769 at x = [...]\n"
     ]
    },
    {
     "name": "stdout",
     "output_type": "stream",
     "text": [
      "0.13635290619076862\n"
     ]
    },
    {
     "name": "stderr",
     "output_type": "stream",
     "text": [
      "Function eval 45 at point 45 has f = 0.0946077682541947 at x = [...]\n"
     ]
    },
    {
     "name": "stdout",
     "output_type": "stream",
     "text": [
      "0.09460776825419467\n"
     ]
    },
    {
     "name": "stderr",
     "output_type": "stream",
     "text": [
      "Function eval 46 at point 46 has f = 0.337205146864642 at x = [...]\n"
     ]
    },
    {
     "name": "stdout",
     "output_type": "stream",
     "text": [
      "0.33720514686464165\n"
     ]
    },
    {
     "name": "stderr",
     "output_type": "stream",
     "text": [
      "Function eval 47 at point 47 has f = 0.152846510540547 at x = [...]\n",
      "Beginning main loop\n",
      "New rho = 0.001 after 47 function evaluations\n"
     ]
    },
    {
     "name": "stdout",
     "output_type": "stream",
     "text": [
      "0.15284651054054652\n"
     ]
    },
    {
     "name": "stderr",
     "output_type": "stream",
     "text": [
      "Function eval 48 at point 48 has f = 0.564176849940603 at x = [...]\n"
     ]
    },
    {
     "name": "stdout",
     "output_type": "stream",
     "text": [
      "0.5641768499406032\n"
     ]
    },
    {
     "name": "stderr",
     "output_type": "stream",
     "text": [
      "Function eval 49 at point 49 has f = 0.00389171222348276 at x = [...]\n"
     ]
    },
    {
     "name": "stdout",
     "output_type": "stream",
     "text": [
      "0.0038917122234827578\n"
     ]
    },
    {
     "name": "stderr",
     "output_type": "stream",
     "text": [
      "Function eval 50 at point 50 has f = 0.130923566289489 at x = [...]\n"
     ]
    },
    {
     "name": "stdout",
     "output_type": "stream",
     "text": [
      "0.1309235662894888\n"
     ]
    },
    {
     "name": "stderr",
     "output_type": "stream",
     "text": [
      "Function eval 51 at point 51 has f = 0.012022970438922 at x = [...]\n"
     ]
    },
    {
     "name": "stdout",
     "output_type": "stream",
     "text": [
      "0.012022970438921978\n"
     ]
    },
    {
     "name": "stderr",
     "output_type": "stream",
     "text": [
      "Function eval 52 at point 52 has f = 0.105734801394997 at x = [...]\n"
     ]
    },
    {
     "name": "stdout",
     "output_type": "stream",
     "text": [
      "0.10573480139499705\n"
     ]
    },
    {
     "name": "stderr",
     "output_type": "stream",
     "text": [
      "Function eval 53 at point 53 has f = 0.011860759366113 at x = [...]\n"
     ]
    },
    {
     "name": "stdout",
     "output_type": "stream",
     "text": [
      "0.011860759366112996\n"
     ]
    },
    {
     "name": "stderr",
     "output_type": "stream",
     "text": [
      "Function eval 54 at point 54 has f = 0.0393204571338485 at x = [...]\n"
     ]
    },
    {
     "name": "stdout",
     "output_type": "stream",
     "text": [
      "0.03932045713384852\n"
     ]
    },
    {
     "name": "stderr",
     "output_type": "stream",
     "text": [
      "Function eval 55 at point 55 has f = 0.035348933730986 at x = [...]\n"
     ]
    },
    {
     "name": "stdout",
     "output_type": "stream",
     "text": [
      "0.035348933730986035\n"
     ]
    },
    {
     "name": "stderr",
     "output_type": "stream",
     "text": [
      "Function eval 56 at point 56 has f = 0.0137546579189203 at x = [...]\n"
     ]
    },
    {
     "name": "stdout",
     "output_type": "stream",
     "text": [
      "0.013754657918920263\n"
     ]
    },
    {
     "name": "stderr",
     "output_type": "stream",
     "text": [
      "Function eval 57 at point 57 has f = 0.0190079825364822 at x = [...]\n"
     ]
    },
    {
     "name": "stdout",
     "output_type": "stream",
     "text": [
      "0.01900798253648218\n"
     ]
    },
    {
     "name": "stderr",
     "output_type": "stream",
     "text": [
      "Function eval 58 at point 58 has f = 0.020846625247562 at x = [...]\n"
     ]
    },
    {
     "name": "stdout",
     "output_type": "stream",
     "text": [
      "0.020846625247562013\n"
     ]
    },
    {
     "name": "stderr",
     "output_type": "stream",
     "text": [
      "Function eval 59 at point 59 has f = 0.00155769382016575 at x = [...]\n"
     ]
    },
    {
     "name": "stdout",
     "output_type": "stream",
     "text": [
      "0.001557693820165748\n"
     ]
    },
    {
     "name": "stderr",
     "output_type": "stream",
     "text": [
      "Function eval 60 at point 60 has f = 0.048851157294972 at x = [...]\n"
     ]
    },
    {
     "name": "stdout",
     "output_type": "stream",
     "text": [
      "0.04885115729497202\n"
     ]
    },
    {
     "name": "stderr",
     "output_type": "stream",
     "text": [
      "Function eval 61 at point 61 has f = 0.00806803724044015 at x = [...]\n"
     ]
    },
    {
     "name": "stdout",
     "output_type": "stream",
     "text": [
      "0.008068037240440154\n"
     ]
    },
    {
     "name": "stderr",
     "output_type": "stream",
     "text": [
      "Function eval 62 at point 62 has f = 0.0238633092851616 at x = [...]\n"
     ]
    },
    {
     "name": "stdout",
     "output_type": "stream",
     "text": [
      "0.02386330928516159\n"
     ]
    },
    {
     "name": "stderr",
     "output_type": "stream",
     "text": [
      "Function eval 63 at point 63 has f = 0.0102935517625306 at x = [...]\n"
     ]
    },
    {
     "name": "stdout",
     "output_type": "stream",
     "text": [
      "0.010293551762530575\n"
     ]
    },
    {
     "name": "stderr",
     "output_type": "stream",
     "text": [
      "Function eval 64 at point 64 has f = 0.0191824879104111 at x = [...]\n"
     ]
    },
    {
     "name": "stdout",
     "output_type": "stream",
     "text": [
      "0.01918248791041107\n"
     ]
    },
    {
     "name": "stderr",
     "output_type": "stream",
     "text": [
      "Function eval 65 at point 65 has f = 0.016778367244266 at x = [...]\n"
     ]
    },
    {
     "name": "stdout",
     "output_type": "stream",
     "text": [
      "0.016778367244265974\n"
     ]
    },
    {
     "name": "stderr",
     "output_type": "stream",
     "text": [
      "Function eval 66 at point 66 has f = 0.0160541223833527 at x = [...]\n"
     ]
    },
    {
     "name": "stdout",
     "output_type": "stream",
     "text": [
      "0.016054122383352666\n"
     ]
    },
    {
     "name": "stderr",
     "output_type": "stream",
     "text": [
      "Function eval 67 at point 67 has f = 0.00528580830746439 at x = [...]\n"
     ]
    },
    {
     "name": "stdout",
     "output_type": "stream",
     "text": [
      "0.005285808307464386\n"
     ]
    },
    {
     "name": "stderr",
     "output_type": "stream",
     "text": [
      "Function eval 68 at point 68 has f = 0.0211352257829018 at x = [...]\n"
     ]
    },
    {
     "name": "stdout",
     "output_type": "stream",
     "text": [
      "0.021135225782901824\n"
     ]
    },
    {
     "name": "stderr",
     "output_type": "stream",
     "text": [
      "Function eval 69 at point 69 has f = 0.0236708836148031 at x = [...]\n"
     ]
    },
    {
     "name": "stdout",
     "output_type": "stream",
     "text": [
      "0.02367088361480306\n"
     ]
    },
    {
     "name": "stderr",
     "output_type": "stream",
     "text": [
      "Function eval 70 at point 70 has f = 0.0132773075258574 at x = [...]\n"
     ]
    },
    {
     "name": "stdout",
     "output_type": "stream",
     "text": [
      "0.013277307525857415\n"
     ]
    },
    {
     "name": "stderr",
     "output_type": "stream",
     "text": [
      "Function eval 71 at point 71 has f = 0.00165342449838531 at x = [...]\n"
     ]
    },
    {
     "name": "stdout",
     "output_type": "stream",
     "text": [
      "0.0016534244983853071\n"
     ]
    },
    {
     "name": "stderr",
     "output_type": "stream",
     "text": [
      "Function eval 72 at point 72 has f = 0.018010804009876 at x = [...]\n"
     ]
    },
    {
     "name": "stdout",
     "output_type": "stream",
     "text": [
      "0.018010804009875973\n"
     ]
    },
    {
     "name": "stderr",
     "output_type": "stream",
     "text": [
      "Function eval 73 at point 73 has f = 0.0261910657044599 at x = [...]\n"
     ]
    },
    {
     "name": "stdout",
     "output_type": "stream",
     "text": [
      "0.026191065704459886\n"
     ]
    },
    {
     "name": "stderr",
     "output_type": "stream",
     "text": [
      "Function eval 74 at point 74 has f = 0.0825806746833246 at x = [...]\n"
     ]
    },
    {
     "name": "stdout",
     "output_type": "stream",
     "text": [
      "0.08258067468332457\n"
     ]
    },
    {
     "name": "stderr",
     "output_type": "stream",
     "text": [
      "Function eval 75 at point 75 has f = 0.00197607435700716 at x = [...]\n"
     ]
    },
    {
     "name": "stdout",
     "output_type": "stream",
     "text": [
      "0.0019760743570071647\n"
     ]
    },
    {
     "name": "stderr",
     "output_type": "stream",
     "text": [
      "Function eval 76 at point 76 has f = 0.073236476759669 at x = [...]\n"
     ]
    },
    {
     "name": "stdout",
     "output_type": "stream",
     "text": [
      "0.07323647675966896\n"
     ]
    },
    {
     "name": "stderr",
     "output_type": "stream",
     "text": [
      "Function eval 77 at point 77 has f = 0.0223341470035732 at x = [...]\n"
     ]
    },
    {
     "name": "stdout",
     "output_type": "stream",
     "text": [
      "0.022334147003573206\n"
     ]
    },
    {
     "name": "stderr",
     "output_type": "stream",
     "text": [
      "Function eval 78 at point 78 has f = 0.0271491741773208 at x = [...]\n"
     ]
    },
    {
     "name": "stdout",
     "output_type": "stream",
     "text": [
      "0.027149174177320757\n"
     ]
    },
    {
     "name": "stderr",
     "output_type": "stream",
     "text": [
      "Function eval 79 at point 79 has f = 0.00975263090623903 at x = [...]\n"
     ]
    },
    {
     "name": "stdout",
     "output_type": "stream",
     "text": [
      "0.009752630906239027\n"
     ]
    },
    {
     "name": "stderr",
     "output_type": "stream",
     "text": [
      "Function eval 80 at point 80 has f = 0.0335219118796529 at x = [...]\n"
     ]
    },
    {
     "name": "stdout",
     "output_type": "stream",
     "text": [
      "0.033521911879652935\n"
     ]
    },
    {
     "name": "stderr",
     "output_type": "stream",
     "text": [
      "Function eval 81 at point 81 has f = 0.0018548108797497 at x = [...]\n"
     ]
    },
    {
     "name": "stdout",
     "output_type": "stream",
     "text": [
      "0.0018548108797497005\n"
     ]
    },
    {
     "name": "stderr",
     "output_type": "stream",
     "text": [
      "Function eval 82 at point 82 has f = 0.0155717135481014 at x = [...]\n"
     ]
    },
    {
     "name": "stdout",
     "output_type": "stream",
     "text": [
      "0.015571713548101418\n"
     ]
    },
    {
     "name": "stderr",
     "output_type": "stream",
     "text": [
      "Function eval 83 at point 83 has f = 0.0105432601236982 at x = [...]\n"
     ]
    },
    {
     "name": "stdout",
     "output_type": "stream",
     "text": [
      "0.010543260123698203\n"
     ]
    },
    {
     "name": "stderr",
     "output_type": "stream",
     "text": [
      "Function eval 84 at point 84 has f = 0.0202666220731833 at x = [...]\n"
     ]
    },
    {
     "name": "stdout",
     "output_type": "stream",
     "text": [
      "0.02026662207318334\n"
     ]
    },
    {
     "name": "stderr",
     "output_type": "stream",
     "text": [
      "Function eval 85 at point 85 has f = 0.0488390513894134 at x = [...]\n"
     ]
    },
    {
     "name": "stdout",
     "output_type": "stream",
     "text": [
      "0.04883905138941343\n"
     ]
    },
    {
     "name": "stderr",
     "output_type": "stream",
     "text": [
      "Function eval 86 at point 86 has f = 0.0405258975567797 at x = [...]\n"
     ]
    },
    {
     "name": "stdout",
     "output_type": "stream",
     "text": [
      "0.040525897556779725\n"
     ]
    },
    {
     "name": "stderr",
     "output_type": "stream",
     "text": [
      "Function eval 87 at point 87 has f = 0.00722167302618125 at x = [...]\n"
     ]
    },
    {
     "name": "stdout",
     "output_type": "stream",
     "text": [
      "0.0072216730261812495\n"
     ]
    },
    {
     "name": "stderr",
     "output_type": "stream",
     "text": [
      "Function eval 88 at point 88 has f = 0.0265013715371124 at x = [...]\n"
     ]
    },
    {
     "name": "stdout",
     "output_type": "stream",
     "text": [
      "0.02650137153711244\n"
     ]
    },
    {
     "name": "stderr",
     "output_type": "stream",
     "text": [
      "Function eval 89 at point 89 has f = 0.0305658984811763 at x = [...]\n"
     ]
    },
    {
     "name": "stdout",
     "output_type": "stream",
     "text": [
      "0.03056589848117634\n"
     ]
    },
    {
     "name": "stderr",
     "output_type": "stream",
     "text": [
      "Function eval 90 at point 90 has f = 0.00232548745221591 at x = [...]\n",
      "New rho = 0.0001 after 90 function evaluations\n"
     ]
    },
    {
     "name": "stdout",
     "output_type": "stream",
     "text": [
      "0.0023254874522159073\n"
     ]
    },
    {
     "name": "stderr",
     "output_type": "stream",
     "text": [
      "Function eval 91 at point 91 has f = 0.00676980675366463 at x = [...]\n"
     ]
    },
    {
     "name": "stdout",
     "output_type": "stream",
     "text": [
      "0.006769806753664631\n"
     ]
    },
    {
     "name": "stderr",
     "output_type": "stream",
     "text": [
      "Function eval 92 at point 92 has f = 0.00962779075030766 at x = [...]\n"
     ]
    },
    {
     "name": "stdout",
     "output_type": "stream",
     "text": [
      "0.009627790750307655\n"
     ]
    },
    {
     "name": "stderr",
     "output_type": "stream",
     "text": [
      "Function eval 93 at point 93 has f = 0.000813729338389794 at x = [...]\n"
     ]
    },
    {
     "name": "stdout",
     "output_type": "stream",
     "text": [
      "0.0008137293383897938\n"
     ]
    },
    {
     "name": "stderr",
     "output_type": "stream",
     "text": [
      "Function eval 94 at point 94 has f = 8.60006460456967e-05 at x = [...]\n"
     ]
    },
    {
     "name": "stdout",
     "output_type": "stream",
     "text": [
      "8.60006460456967e-05\n"
     ]
    },
    {
     "name": "stderr",
     "output_type": "stream",
     "text": [
      "Function eval 95 at point 95 has f = 0.000104105534835982 at x = [...]\n"
     ]
    },
    {
     "name": "stdout",
     "output_type": "stream",
     "text": [
      "0.00010410553483598193\n"
     ]
    },
    {
     "name": "stderr",
     "output_type": "stream",
     "text": [
      "Function eval 96 at point 96 has f = 8.74036731169718e-05 at x = [...]\n"
     ]
    },
    {
     "name": "stdout",
     "output_type": "stream",
     "text": [
      "8.740367311697178e-05\n"
     ]
    },
    {
     "name": "stderr",
     "output_type": "stream",
     "text": [
      "Function eval 97 at point 97 has f = 7.95621198928599e-05 at x = [...]\n"
     ]
    },
    {
     "name": "stdout",
     "output_type": "stream",
     "text": [
      "7.956211989285986e-05\n"
     ]
    },
    {
     "name": "stderr",
     "output_type": "stream",
     "text": [
      "Function eval 98 at point 98 has f = 6.57282224871028e-07 at x = [...]\n"
     ]
    },
    {
     "name": "stdout",
     "output_type": "stream",
     "text": [
      "6.572822248710278e-07\n"
     ]
    },
    {
     "name": "stderr",
     "output_type": "stream",
     "text": [
      "Function eval 99 at point 99 has f = 0.000299220738447733 at x = [...]\n"
     ]
    },
    {
     "name": "stdout",
     "output_type": "stream",
     "text": [
      "0.00029922073844773286\n"
     ]
    },
    {
     "name": "stderr",
     "output_type": "stream",
     "text": [
      "Function eval 100 at point 100 has f = 0.0114489076142654 at x = [...]\n"
     ]
    },
    {
     "name": "stdout",
     "output_type": "stream",
     "text": [
      "0.01144890761426542\n"
     ]
    },
    {
     "name": "stderr",
     "output_type": "stream",
     "text": [
      "Function eval 101 at point 101 has f = 0.000188280967403049 at x = [...]\n"
     ]
    },
    {
     "name": "stdout",
     "output_type": "stream",
     "text": [
      "0.0001882809674030494\n"
     ]
    },
    {
     "name": "stderr",
     "output_type": "stream",
     "text": [
      "Function eval 102 at point 102 has f = 0.000199151771808722 at x = [...]\n"
     ]
    },
    {
     "name": "stdout",
     "output_type": "stream",
     "text": [
      "0.00019915177180872205\n"
     ]
    },
    {
     "name": "stderr",
     "output_type": "stream",
     "text": [
      "Function eval 103 at point 103 has f = 0.00407735417965645 at x = [...]\n"
     ]
    },
    {
     "name": "stdout",
     "output_type": "stream",
     "text": [
      "0.004077354179656453\n"
     ]
    },
    {
     "name": "stderr",
     "output_type": "stream",
     "text": [
      "Function eval 104 at point 104 has f = 7.96403915720324e-05 at x = [...]\n"
     ]
    },
    {
     "name": "stdout",
     "output_type": "stream",
     "text": [
      "7.964039157203238e-05\n"
     ]
    },
    {
     "name": "stderr",
     "output_type": "stream",
     "text": [
      "Function eval 105 at point 105 has f = 0.000186912531653106 at x = [...]\n"
     ]
    },
    {
     "name": "stdout",
     "output_type": "stream",
     "text": [
      "0.00018691253165310578\n"
     ]
    },
    {
     "name": "stderr",
     "output_type": "stream",
     "text": [
      "Function eval 106 at point 106 has f = 0.000308339095625553 at x = [...]\n"
     ]
    },
    {
     "name": "stdout",
     "output_type": "stream",
     "text": [
      "0.0003083390956255531\n"
     ]
    },
    {
     "name": "stderr",
     "output_type": "stream",
     "text": [
      "Function eval 107 at point 107 has f = 0.00765148364946167 at x = [...]\n"
     ]
    },
    {
     "name": "stdout",
     "output_type": "stream",
     "text": [
      "0.007651483649461674\n"
     ]
    },
    {
     "name": "stderr",
     "output_type": "stream",
     "text": [
      "Function eval 108 at point 108 has f = 0.00791858583691447 at x = [...]\n"
     ]
    },
    {
     "name": "stdout",
     "output_type": "stream",
     "text": [
      "0.007918585836914474\n"
     ]
    },
    {
     "name": "stderr",
     "output_type": "stream",
     "text": [
      "Function eval 109 at point 109 has f = 0.000298247934925841 at x = [...]\n"
     ]
    },
    {
     "name": "stdout",
     "output_type": "stream",
     "text": [
      "0.0002982479349258412\n"
     ]
    },
    {
     "name": "stderr",
     "output_type": "stream",
     "text": [
      "Function eval 110 at point 110 has f = 0.00018396269352366 at x = [...]\n"
     ]
    },
    {
     "name": "stdout",
     "output_type": "stream",
     "text": [
      "0.0001839626935236604\n"
     ]
    },
    {
     "name": "stderr",
     "output_type": "stream",
     "text": [
      "Function eval 111 at point 111 has f = 0.0019445177237271 at x = [...]\n"
     ]
    },
    {
     "name": "stdout",
     "output_type": "stream",
     "text": [
      "0.0019445177237271032\n"
     ]
    },
    {
     "name": "stderr",
     "output_type": "stream",
     "text": [
      "Function eval 112 at point 112 has f = 0.000849377485552585 at x = [...]\n"
     ]
    },
    {
     "name": "stdout",
     "output_type": "stream",
     "text": [
      "0.0008493774855525846\n"
     ]
    },
    {
     "name": "stderr",
     "output_type": "stream",
     "text": [
      "Function eval 113 at point 113 has f = 7.957668529115e-05 at x = [...]\n"
     ]
    },
    {
     "name": "stdout",
     "output_type": "stream",
     "text": [
      "7.957668529115004e-05\n"
     ]
    },
    {
     "name": "stderr",
     "output_type": "stream",
     "text": [
      "Function eval 114 at point 114 has f = 1.46232054645548e-06 at x = [...]\n"
     ]
    },
    {
     "name": "stdout",
     "output_type": "stream",
     "text": [
      "1.4623205464554777e-06\n"
     ]
    },
    {
     "name": "stderr",
     "output_type": "stream",
     "text": [
      "Function eval 115 at point 115 has f = 0.000944749769579879 at x = [...]\n"
     ]
    },
    {
     "name": "stdout",
     "output_type": "stream",
     "text": [
      "0.0009447497695798793\n"
     ]
    },
    {
     "name": "stderr",
     "output_type": "stream",
     "text": [
      "Function eval 116 at point 116 has f = 1.41437760558034e-06 at x = [...]\n"
     ]
    },
    {
     "name": "stdout",
     "output_type": "stream",
     "text": [
      "1.4143776055803422e-06\n"
     ]
    },
    {
     "name": "stderr",
     "output_type": "stream",
     "text": [
      "Function eval 117 at point 117 has f = 3.71286514786664e-06 at x = [...]\n"
     ]
    },
    {
     "name": "stdout",
     "output_type": "stream",
     "text": [
      "3.7128651478666366e-06\n"
     ]
    },
    {
     "name": "stderr",
     "output_type": "stream",
     "text": [
      "Function eval 118 at point 118 has f = 1.91154196739651e-06 at x = [...]\n"
     ]
    },
    {
     "name": "stdout",
     "output_type": "stream",
     "text": [
      "1.9115419673965085e-06\n"
     ]
    },
    {
     "name": "stderr",
     "output_type": "stream",
     "text": [
      "Function eval 119 at point 119 has f = 9.16110717189545e-07 at x = [...]\n"
     ]
    },
    {
     "name": "stdout",
     "output_type": "stream",
     "text": [
      "9.161107171895448e-07\n"
     ]
    },
    {
     "name": "stderr",
     "output_type": "stream",
     "text": [
      "Function eval 120 at point 120 has f = 0.00103053021187196 at x = [...]\n"
     ]
    },
    {
     "name": "stdout",
     "output_type": "stream",
     "text": [
      "0.0010305302118719644\n"
     ]
    },
    {
     "name": "stderr",
     "output_type": "stream",
     "text": [
      "Function eval 121 at point 121 has f = 0.000297773399082989 at x = [...]\n"
     ]
    },
    {
     "name": "stdout",
     "output_type": "stream",
     "text": [
      "0.0002977733990829888\n"
     ]
    },
    {
     "name": "stderr",
     "output_type": "stream",
     "text": [
      "Function eval 122 at point 122 has f = 0.000653017286270392 at x = [...]\n"
     ]
    },
    {
     "name": "stdout",
     "output_type": "stream",
     "text": [
      "0.0006530172862703923\n"
     ]
    },
    {
     "name": "stderr",
     "output_type": "stream",
     "text": [
      "Function eval 123 at point 123 has f = 0.000187844913565142 at x = [...]\n",
      "New rho = 1e-05 after 123 function evaluations\n"
     ]
    },
    {
     "name": "stdout",
     "output_type": "stream",
     "text": [
      "0.00018784491356514215\n"
     ]
    },
    {
     "name": "stderr",
     "output_type": "stream",
     "text": [
      "Function eval 124 at point 124 has f = 7.96762024356738e-05 at x = [...]\n"
     ]
    },
    {
     "name": "stdout",
     "output_type": "stream",
     "text": [
      "7.967620243567376e-05\n"
     ]
    },
    {
     "name": "stderr",
     "output_type": "stream",
     "text": [
      "Function eval 125 at point 125 has f = 0.000947553901484489 at x = [...]\n"
     ]
    },
    {
     "name": "stdout",
     "output_type": "stream",
     "text": [
      "0.0009475539014844888\n"
     ]
    },
    {
     "name": "stderr",
     "output_type": "stream",
     "text": [
      "Function eval 126 at point 126 has f = 7.96707065687627e-05 at x = [...]\n"
     ]
    },
    {
     "name": "stdout",
     "output_type": "stream",
     "text": [
      "7.967070656876269e-05\n"
     ]
    },
    {
     "name": "stderr",
     "output_type": "stream",
     "text": [
      "Function eval 127 at point 127 has f = 4.94386132844233e-08 at x = [...]\n"
     ]
    },
    {
     "name": "stdout",
     "output_type": "stream",
     "text": [
      "4.943861328442332e-08\n"
     ]
    },
    {
     "name": "stderr",
     "output_type": "stream",
     "text": [
      "Function eval 128 at point 128 has f = 1.17471874444036e-08 at x = [...]\n"
     ]
    },
    {
     "name": "stdout",
     "output_type": "stream",
     "text": [
      "1.1747187444403554e-08\n"
     ]
    },
    {
     "name": "stderr",
     "output_type": "stream",
     "text": [
      "Function eval 129 at point 129 has f = 4.93093252545836e-08 at x = [...]\n"
     ]
    },
    {
     "name": "stdout",
     "output_type": "stream",
     "text": [
      "4.930932525458359e-08\n"
     ]
    },
    {
     "name": "stderr",
     "output_type": "stream",
     "text": [
      "Function eval 130 at point 130 has f = 1.14790943684036e-07 at x = [...]\n"
     ]
    },
    {
     "name": "stdout",
     "output_type": "stream",
     "text": [
      "1.1479094368403634e-07\n"
     ]
    },
    {
     "name": "stderr",
     "output_type": "stream",
     "text": [
      "Function eval 131 at point 131 has f = 3.40928814491632e-09 at x = [...]\n"
     ]
    },
    {
     "name": "stdout",
     "output_type": "stream",
     "text": [
      "3.4092881449163206e-09\n"
     ]
    },
    {
     "name": "stderr",
     "output_type": "stream",
     "text": [
      "Function eval 132 at point 132 has f = 2.32771100851137e-08 at x = [...]\n"
     ]
    },
    {
     "name": "stdout",
     "output_type": "stream",
     "text": [
      "2.3277110085113728e-08\n"
     ]
    },
    {
     "name": "stderr",
     "output_type": "stream",
     "text": [
      "Function eval 133 at point 133 has f = 1.30242697811882e-08 at x = [...]\n"
     ]
    },
    {
     "name": "stdout",
     "output_type": "stream",
     "text": [
      "1.3024269781188235e-08\n"
     ]
    },
    {
     "name": "stderr",
     "output_type": "stream",
     "text": [
      "Function eval 134 at point 134 has f = 6.91746085537065e-09 at x = [...]\n"
     ]
    },
    {
     "name": "stdout",
     "output_type": "stream",
     "text": [
      "6.917460855370652e-09\n"
     ]
    },
    {
     "name": "stderr",
     "output_type": "stream",
     "text": [
      "Function eval 135 at point 135 has f = 5.0478362880998e-09 at x = [...]\n"
     ]
    },
    {
     "name": "stdout",
     "output_type": "stream",
     "text": [
      "5.047836288099798e-09\n"
     ]
    },
    {
     "name": "stderr",
     "output_type": "stream",
     "text": [
      "Function eval 136 at point 136 has f = 4.78197491051326e-08 at x = [...]\n"
     ]
    },
    {
     "name": "stdout",
     "output_type": "stream",
     "text": [
      "4.781974910513257e-08\n"
     ]
    },
    {
     "name": "stderr",
     "output_type": "stream",
     "text": [
      "Function eval 137 at point 137 has f = 2.38588183072965e-08 at x = [...]\n"
     ]
    },
    {
     "name": "stdout",
     "output_type": "stream",
     "text": [
      "2.3858818307296536e-08\n"
     ]
    },
    {
     "name": "stderr",
     "output_type": "stream",
     "text": [
      "Function eval 138 at point 138 has f = 5.89702700832486e-09 at x = [...]\n"
     ]
    },
    {
     "name": "stdout",
     "output_type": "stream",
     "text": [
      "5.8970270083248575e-09\n"
     ]
    },
    {
     "name": "stderr",
     "output_type": "stream",
     "text": [
      "Function eval 139 at point 139 has f = 5.50958271662335e-08 at x = [...]\n"
     ]
    },
    {
     "name": "stdout",
     "output_type": "stream",
     "text": [
      "5.509582716623346e-08\n"
     ]
    },
    {
     "name": "stderr",
     "output_type": "stream",
     "text": [
      "Function eval 140 at point 140 has f = 6.85442769670464e-09 at x = [...]\n"
     ]
    },
    {
     "name": "stdout",
     "output_type": "stream",
     "text": [
      "6.854427696704643e-09\n"
     ]
    },
    {
     "name": "stderr",
     "output_type": "stream",
     "text": [
      "Function eval 141 at point 141 has f = 4.85536900158508e-08 at x = [...]\n"
     ]
    },
    {
     "name": "stdout",
     "output_type": "stream",
     "text": [
      "4.855369001585082e-08\n"
     ]
    },
    {
     "name": "stderr",
     "output_type": "stream",
     "text": [
      "Function eval 142 at point 142 has f = 5.0979044573829e-08 at x = [...]\n"
     ]
    },
    {
     "name": "stdout",
     "output_type": "stream",
     "text": [
      "5.097904457382898e-08\n"
     ]
    },
    {
     "name": "stderr",
     "output_type": "stream",
     "text": [
      "Function eval 143 at point 143 has f = 1.96821159665857e-09 at x = [...]\n"
     ]
    },
    {
     "name": "stdout",
     "output_type": "stream",
     "text": [
      "1.9682115966585694e-09\n"
     ]
    },
    {
     "name": "stderr",
     "output_type": "stream",
     "text": [
      "Function eval 144 at point 144 has f = 1.91348493894893e-08 at x = [...]\n"
     ]
    },
    {
     "name": "stdout",
     "output_type": "stream",
     "text": [
      "1.9134849389489285e-08\n"
     ]
    },
    {
     "name": "stderr",
     "output_type": "stream",
     "text": [
      "Function eval 145 at point 145 has f = 8.75209736680627e-09 at x = [...]\n"
     ]
    },
    {
     "name": "stdout",
     "output_type": "stream",
     "text": [
      "8.752097366806269e-09\n"
     ]
    },
    {
     "name": "stderr",
     "output_type": "stream",
     "text": [
      "Function eval 146 at point 146 has f = 1.04050723494048e-08 at x = [...]\n"
     ]
    },
    {
     "name": "stdout",
     "output_type": "stream",
     "text": [
      "1.0405072349404842e-08\n"
     ]
    },
    {
     "name": "stderr",
     "output_type": "stream",
     "text": [
      "Function eval 147 at point 147 has f = 2.48381962927457e-09 at x = [...]\n"
     ]
    },
    {
     "name": "stdout",
     "output_type": "stream",
     "text": [
      "2.483819629274567e-09\n"
     ]
    },
    {
     "name": "stderr",
     "output_type": "stream",
     "text": [
      "Function eval 148 at point 148 has f = 4.02656185756198e-08 at x = [...]\n"
     ]
    },
    {
     "name": "stdout",
     "output_type": "stream",
     "text": [
      "4.026561857561985e-08\n"
     ]
    },
    {
     "name": "stderr",
     "output_type": "stream",
     "text": [
      "Function eval 149 at point 149 has f = 0.000297666346358649 at x = [...]\n"
     ]
    },
    {
     "name": "stdout",
     "output_type": "stream",
     "text": [
      "0.0002976663463586495\n"
     ]
    },
    {
     "name": "stderr",
     "output_type": "stream",
     "text": [
      "Function eval 150 at point 150 has f = 9.10606273427613e-09 at x = [...]\n"
     ]
    },
    {
     "name": "stdout",
     "output_type": "stream",
     "text": [
      "9.106062734276125e-09\n"
     ]
    },
    {
     "name": "stderr",
     "output_type": "stream",
     "text": [
      "Function eval 151 at point 151 has f = 6.97314859479405e-09 at x = [...]\n"
     ]
    },
    {
     "name": "stdout",
     "output_type": "stream",
     "text": [
      "6.9731485947940495e-09\n"
     ]
    },
    {
     "name": "stderr",
     "output_type": "stream",
     "text": [
      "Function eval 152 at point 152 has f = 3.06184239561997e-09 at x = [...]\n"
     ]
    },
    {
     "name": "stdout",
     "output_type": "stream",
     "text": [
      "3.0618423956199668e-09\n"
     ]
    },
    {
     "name": "stderr",
     "output_type": "stream",
     "text": [
      "Function eval 153 at point 153 has f = 7.11590697097065e-08 at x = [...]\n"
     ]
    },
    {
     "name": "stdout",
     "output_type": "stream",
     "text": [
      "7.115906970970651e-08\n"
     ]
    },
    {
     "name": "stderr",
     "output_type": "stream",
     "text": [
      "Function eval 154 at point 154 has f = 5.41070172531033e-09 at x = [...]\n"
     ]
    },
    {
     "name": "stdout",
     "output_type": "stream",
     "text": [
      "5.410701725310331e-09\n"
     ]
    },
    {
     "name": "stderr",
     "output_type": "stream",
     "text": [
      "Function eval 155 at point 155 has f = 4.88571652038557e-09 at x = [...]\n"
     ]
    },
    {
     "name": "stdout",
     "output_type": "stream",
     "text": [
      "4.88571652038557e-09\n"
     ]
    },
    {
     "name": "stderr",
     "output_type": "stream",
     "text": [
      "Function eval 156 at point 156 has f = 2.85722401857988e-08 at x = [...]\n",
      "New rho = 1e-06 after 156 function evaluations\n"
     ]
    },
    {
     "name": "stdout",
     "output_type": "stream",
     "text": [
      "2.8572240185798804e-08\n"
     ]
    },
    {
     "name": "stderr",
     "output_type": "stream",
     "text": [
      "Function eval 157 at point 157 has f = 2.21871519638784e-09 at x = [...]\n"
     ]
    },
    {
     "name": "stdout",
     "output_type": "stream",
     "text": [
      "2.218715196387843e-09\n"
     ]
    },
    {
     "name": "stderr",
     "output_type": "stream",
     "text": [
      "Function eval 158 at point 158 has f = 2.4957443962794e-09 at x = [...]\n"
     ]
    },
    {
     "name": "stdout",
     "output_type": "stream",
     "text": [
      "2.4957443962794045e-09\n"
     ]
    },
    {
     "name": "stderr",
     "output_type": "stream",
     "text": [
      "Function eval 159 at point 159 has f = 4.15571688029264e-10 at x = [...]\n"
     ]
    },
    {
     "name": "stdout",
     "output_type": "stream",
     "text": [
      "4.155716880292637e-10\n"
     ]
    },
    {
     "name": "stderr",
     "output_type": "stream",
     "text": [
      "Function eval 160 at point 160 has f = 4.37398195112567e-11 at x = [...]\n"
     ]
    },
    {
     "name": "stdout",
     "output_type": "stream",
     "text": [
      "4.3739819511256705e-11\n"
     ]
    },
    {
     "name": "stderr",
     "output_type": "stream",
     "text": [
      "Function eval 161 at point 161 has f = 1.33306723900733e-10 at x = [...]\n"
     ]
    },
    {
     "name": "stdout",
     "output_type": "stream",
     "text": [
      "1.3330672390073341e-10\n"
     ]
    },
    {
     "name": "stderr",
     "output_type": "stream",
     "text": [
      "Function eval 162 at point 162 has f = 8.11782815641981e-11 at x = [...]\n"
     ]
    },
    {
     "name": "stdout",
     "output_type": "stream",
     "text": [
      "8.117828156419806e-11\n"
     ]
    },
    {
     "name": "stderr",
     "output_type": "stream",
     "text": [
      "Function eval 163 at point 163 has f = 5.52519661911926e-10 at x = [...]\n"
     ]
    },
    {
     "name": "stdout",
     "output_type": "stream",
     "text": [
      "5.525196619119258e-10\n"
     ]
    },
    {
     "name": "stderr",
     "output_type": "stream",
     "text": [
      "Function eval 164 at point 164 has f = 6.88478289471781e-11 at x = [...]\n"
     ]
    },
    {
     "name": "stdout",
     "output_type": "stream",
     "text": [
      "6.884782894717809e-11\n"
     ]
    },
    {
     "name": "stderr",
     "output_type": "stream",
     "text": [
      "Function eval 165 at point 165 has f = 5.09355044177342e-11 at x = [...]\n"
     ]
    },
    {
     "name": "stdout",
     "output_type": "stream",
     "text": [
      "5.093550441773423e-11\n"
     ]
    },
    {
     "name": "stderr",
     "output_type": "stream",
     "text": [
      "Function eval 166 at point 166 has f = 1.47852246205745e-10 at x = [...]\n"
     ]
    },
    {
     "name": "stdout",
     "output_type": "stream",
     "text": [
      "1.478522462057448e-10\n"
     ]
    },
    {
     "name": "stderr",
     "output_type": "stream",
     "text": [
      "Function eval 167 at point 167 has f = 9.77028752728696e-11 at x = [...]\n"
     ]
    },
    {
     "name": "stdout",
     "output_type": "stream",
     "text": [
      "9.770287527286962e-11\n"
     ]
    },
    {
     "name": "stderr",
     "output_type": "stream",
     "text": [
      "Function eval 168 at point 168 has f = 2.02364856273984e-10 at x = [...]\n"
     ]
    },
    {
     "name": "stdout",
     "output_type": "stream",
     "text": [
      "2.0236485627398354e-10\n"
     ]
    },
    {
     "name": "stderr",
     "output_type": "stream",
     "text": [
      "Function eval 169 at point 169 has f = 2.70170866817471e-10 at x = [...]\n"
     ]
    },
    {
     "name": "stdout",
     "output_type": "stream",
     "text": [
      "2.7017086681747073e-10\n"
     ]
    },
    {
     "name": "stderr",
     "output_type": "stream",
     "text": [
      "Function eval 170 at point 170 has f = 9.48309855781782e-10 at x = [...]\n"
     ]
    },
    {
     "name": "stdout",
     "output_type": "stream",
     "text": [
      "9.483098557817815e-10\n"
     ]
    },
    {
     "name": "stderr",
     "output_type": "stream",
     "text": [
      "Function eval 171 at point 171 has f = 3.25261519643152e-10 at x = [...]\n"
     ]
    },
    {
     "name": "stdout",
     "output_type": "stream",
     "text": [
      "3.2526151964315193e-10\n"
     ]
    },
    {
     "name": "stderr",
     "output_type": "stream",
     "text": [
      "Function eval 172 at point 172 has f = 1.81716297446745e-10 at x = [...]\n"
     ]
    },
    {
     "name": "stdout",
     "output_type": "stream",
     "text": [
      "1.817162974467453e-10\n"
     ]
    },
    {
     "name": "stderr",
     "output_type": "stream",
     "text": [
      "Function eval 173 at point 173 has f = 5.21447676201898e-11 at x = [...]\n"
     ]
    },
    {
     "name": "stdout",
     "output_type": "stream",
     "text": [
      "5.2144767620189785e-11\n"
     ]
    },
    {
     "name": "stderr",
     "output_type": "stream",
     "text": [
      "Function eval 174 at point 174 has f = 7.93127350425977e-11 at x = [...]\n"
     ]
    },
    {
     "name": "stdout",
     "output_type": "stream",
     "text": [
      "7.93127350425977e-11\n"
     ]
    },
    {
     "name": "stderr",
     "output_type": "stream",
     "text": [
      "Function eval 175 at point 175 has f = 6.76058958599679e-11 at x = [...]\n"
     ]
    },
    {
     "name": "stdout",
     "output_type": "stream",
     "text": [
      "6.760589585996788e-11\n"
     ]
    },
    {
     "name": "stderr",
     "output_type": "stream",
     "text": [
      "Function eval 176 at point 176 has f = 7.37852361808412e-10 at x = [...]\n"
     ]
    },
    {
     "name": "stdout",
     "output_type": "stream",
     "text": [
      "7.378523618084118e-10\n"
     ]
    },
    {
     "name": "stderr",
     "output_type": "stream",
     "text": [
      "Function eval 177 at point 177 has f = 4.14161987465048e-10 at x = [...]\n",
      "New rho = 1e-07 after 177 function evaluations\n"
     ]
    },
    {
     "name": "stdout",
     "output_type": "stream",
     "text": [
      "4.1416198746504837e-10\n"
     ]
    },
    {
     "name": "stderr",
     "output_type": "stream",
     "text": [
      "Function eval 178 at point 178 has f = 2.75273064163389e-11 at x = [...]\n"
     ]
    },
    {
     "name": "stdout",
     "output_type": "stream",
     "text": [
      "2.752730641633886e-11\n"
     ]
    },
    {
     "name": "stderr",
     "output_type": "stream",
     "text": [
      "Function eval 179 at point 179 has f = 3.55089631745175e-11 at x = [...]\n"
     ]
    },
    {
     "name": "stdout",
     "output_type": "stream",
     "text": [
      "3.550896317451747e-11\n"
     ]
    },
    {
     "name": "stderr",
     "output_type": "stream",
     "text": [
      "Function eval 180 at point 180 has f = 3.06331317241944e-11 at x = [...]\n"
     ]
    },
    {
     "name": "stdout",
     "output_type": "stream",
     "text": [
      "3.063313172419438e-11\n"
     ]
    },
    {
     "name": "stderr",
     "output_type": "stream",
     "text": [
      "Function eval 181 at point 181 has f = 7.38709793207477e-13 at x = [...]\n"
     ]
    },
    {
     "name": "stdout",
     "output_type": "stream",
     "text": [
      "7.38709793207477e-13\n"
     ]
    },
    {
     "name": "stderr",
     "output_type": "stream",
     "text": [
      "Function eval 182 at point 182 has f = 3.25855587131729e-13 at x = [...]\n"
     ]
    },
    {
     "name": "stdout",
     "output_type": "stream",
     "text": [
      "3.258555871317293e-13\n"
     ]
    },
    {
     "name": "stderr",
     "output_type": "stream",
     "text": [
      "Function eval 183 at point 183 has f = 1.09559220981527e-12 at x = [...]\n"
     ]
    },
    {
     "name": "stdout",
     "output_type": "stream",
     "text": [
      "1.0955922098152664e-12\n"
     ]
    },
    {
     "name": "stderr",
     "output_type": "stream",
     "text": [
      "Function eval 184 at point 184 has f = 1.94946865031999e-12 at x = [...]\n"
     ]
    },
    {
     "name": "stdout",
     "output_type": "stream",
     "text": [
      "1.9494686503199862e-12\n"
     ]
    },
    {
     "name": "stderr",
     "output_type": "stream",
     "text": [
      "Function eval 185 at point 185 has f = 5.7803385232306e-13 at x = [...]\n"
     ]
    },
    {
     "name": "stdout",
     "output_type": "stream",
     "text": [
      "5.780338523230603e-13\n"
     ]
    },
    {
     "name": "stderr",
     "output_type": "stream",
     "text": [
      "Function eval 186 at point 186 has f = 3.6390736384932e-12 at x = [...]\n"
     ]
    },
    {
     "name": "stdout",
     "output_type": "stream",
     "text": [
      "3.639073638493202e-12\n"
     ]
    },
    {
     "name": "stderr",
     "output_type": "stream",
     "text": [
      "Function eval 187 at point 187 has f = 6.65860204248072e-12 at x = [...]\n"
     ]
    },
    {
     "name": "stdout",
     "output_type": "stream",
     "text": [
      "6.658602042480722e-12\n"
     ]
    },
    {
     "name": "stderr",
     "output_type": "stream",
     "text": [
      "Function eval 188 at point 188 has f = 9.17328059845535e-12 at x = [...]\n"
     ]
    },
    {
     "name": "stdout",
     "output_type": "stream",
     "text": [
      "9.173280598455346e-12\n"
     ]
    },
    {
     "name": "stderr",
     "output_type": "stream",
     "text": [
      "Function eval 189 at point 189 has f = 3.6687551342819e-12 at x = [...]\n"
     ]
    },
    {
     "name": "stdout",
     "output_type": "stream",
     "text": [
      "3.668755134281897e-12\n"
     ]
    },
    {
     "name": "stderr",
     "output_type": "stream",
     "text": [
      "Function eval 190 at point 190 has f = 2.0622742353414e-12 at x = [...]\n"
     ]
    },
    {
     "name": "stdout",
     "output_type": "stream",
     "text": [
      "2.0622742353414026e-12\n"
     ]
    },
    {
     "name": "stderr",
     "output_type": "stream",
     "text": [
      "Function eval 191 at point 191 has f = 1.0836011570542e-11 at x = [...]\n"
     ]
    },
    {
     "name": "stdout",
     "output_type": "stream",
     "text": [
      "1.0836011570542006e-11\n"
     ]
    },
    {
     "name": "stderr",
     "output_type": "stream",
     "text": [
      "Function eval 192 at point 192 has f = 4.78462794215057e-13 at x = [...]\n"
     ]
    },
    {
     "name": "stdout",
     "output_type": "stream",
     "text": [
      "4.784627942150569e-13\n"
     ]
    },
    {
     "name": "stderr",
     "output_type": "stream",
     "text": [
      "Function eval 193 at point 193 has f = 1.5120112432806e-12 at x = [...]\n"
     ]
    },
    {
     "name": "stdout",
     "output_type": "stream",
     "text": [
      "1.5120112432805975e-12\n"
     ]
    },
    {
     "name": "stderr",
     "output_type": "stream",
     "text": [
      "Function eval 194 at point 194 has f = 7.57649959464235e-13 at x = [...]\n"
     ]
    },
    {
     "name": "stdout",
     "output_type": "stream",
     "text": [
      "7.576499594642347e-13\n"
     ]
    },
    {
     "name": "stderr",
     "output_type": "stream",
     "text": [
      "Function eval 195 at point 195 has f = 1.24985859414525e-12 at x = [...]\n"
     ]
    },
    {
     "name": "stdout",
     "output_type": "stream",
     "text": [
      "1.2498585941452456e-12\n"
     ]
    },
    {
     "name": "stderr",
     "output_type": "stream",
     "text": [
      "Function eval 196 at point 196 has f = 1.21745843122984e-12 at x = [...]\n"
     ]
    },
    {
     "name": "stdout",
     "output_type": "stream",
     "text": [
      "1.2174584312298408e-12\n"
     ]
    },
    {
     "name": "stderr",
     "output_type": "stream",
     "text": [
      "Function eval 197 at point 197 has f = 3.58236878456831e-13 at x = [...]\n"
     ]
    },
    {
     "name": "stdout",
     "output_type": "stream",
     "text": [
      "3.582368784568305e-13\n"
     ]
    },
    {
     "name": "stderr",
     "output_type": "stream",
     "text": [
      "Function eval 198 at point 198 has f = 3.39615065602116e-12 at x = [...]\n"
     ]
    },
    {
     "name": "stdout",
     "output_type": "stream",
     "text": [
      "3.396150656021161e-12\n"
     ]
    },
    {
     "name": "stderr",
     "output_type": "stream",
     "text": [
      "Function eval 199 at point 199 has f = 1.74431372086716e-13 at x = [...]\n"
     ]
    },
    {
     "name": "stdout",
     "output_type": "stream",
     "text": [
      "1.7443137208671553e-13\n"
     ]
    },
    {
     "name": "stderr",
     "output_type": "stream",
     "text": [
      "Function eval 200 at point 200 has f = 4.5411483927908e-13 at x = [...]\n"
     ]
    },
    {
     "name": "stdout",
     "output_type": "stream",
     "text": [
      "4.541148392790796e-13\n"
     ]
    },
    {
     "name": "stderr",
     "output_type": "stream",
     "text": [
      "Function eval 201 at point 201 has f = 4.69183023337598e-13 at x = [...]\n"
     ]
    },
    {
     "name": "stdout",
     "output_type": "stream",
     "text": [
      "4.691830233375984e-13\n"
     ]
    },
    {
     "name": "stderr",
     "output_type": "stream",
     "text": [
      "Function eval 202 at point 202 has f = 2.30000500822706e-13 at x = [...]\n"
     ]
    },
    {
     "name": "stdout",
     "output_type": "stream",
     "text": [
      "2.3000050082270586e-13\n"
     ]
    },
    {
     "name": "stderr",
     "output_type": "stream",
     "text": [
      "Function eval 203 at point 203 has f = 5.1157426539026e-13 at x = [...]\n"
     ]
    },
    {
     "name": "stdout",
     "output_type": "stream",
     "text": [
      "5.1157426539026e-13\n"
     ]
    },
    {
     "name": "stderr",
     "output_type": "stream",
     "text": [
      "Function eval 204 at point 204 has f = 6.83392335330971e-13 at x = [...]\n"
     ]
    },
    {
     "name": "stdout",
     "output_type": "stream",
     "text": [
      "6.833923353309713e-13\n"
     ]
    },
    {
     "name": "stderr",
     "output_type": "stream",
     "text": [
      "Function eval 205 at point 205 has f = 4.08224142630817e-13 at x = [...]\n"
     ]
    },
    {
     "name": "stdout",
     "output_type": "stream",
     "text": [
      "4.08224142630817e-13\n"
     ]
    },
    {
     "name": "stderr",
     "output_type": "stream",
     "text": [
      "Function eval 206 at point 206 has f = 2.4899893591577e-12 at x = [...]\n"
     ]
    },
    {
     "name": "stdout",
     "output_type": "stream",
     "text": [
      "2.4899893591577016e-12\n"
     ]
    },
    {
     "name": "stderr",
     "output_type": "stream",
     "text": [
      "Function eval 207 at point 207 has f = 1.96591465276162e-12 at x = [...]\n"
     ]
    },
    {
     "name": "stdout",
     "output_type": "stream",
     "text": [
      "1.965914652761617e-12\n"
     ]
    },
    {
     "name": "stderr",
     "output_type": "stream",
     "text": [
      "Function eval 208 at point 208 has f = 1.75893217502501e-13 at x = [...]\n"
     ]
    },
    {
     "name": "stdout",
     "output_type": "stream",
     "text": [
      "1.7589321750250113e-13\n"
     ]
    },
    {
     "name": "stderr",
     "output_type": "stream",
     "text": [
      "Function eval 209 at point 209 has f = 2.3880665515903e-12 at x = [...]\n"
     ]
    },
    {
     "name": "stdout",
     "output_type": "stream",
     "text": [
      "2.3880665515903007e-12\n"
     ]
    },
    {
     "name": "stderr",
     "output_type": "stream",
     "text": [
      "Function eval 210 at point 210 has f = 6.24482459775257e-12 at x = [...]\n"
     ]
    },
    {
     "name": "stdout",
     "output_type": "stream",
     "text": [
      "6.244824597752567e-12\n"
     ]
    },
    {
     "name": "stderr",
     "output_type": "stream",
     "text": [
      "Function eval 211 at point 211 has f = 3.15256717519367e-12 at x = [...]\n"
     ]
    },
    {
     "name": "stdout",
     "output_type": "stream",
     "text": [
      "3.1525671751936687e-12\n"
     ]
    },
    {
     "name": "stderr",
     "output_type": "stream",
     "text": [
      "Function eval 212 at point 212 has f = 9.32725634398977e-13 at x = [...]\n"
     ]
    },
    {
     "name": "stdout",
     "output_type": "stream",
     "text": [
      "9.327256343989765e-13\n"
     ]
    },
    {
     "name": "stderr",
     "output_type": "stream",
     "text": [
      "Function eval 213 at point 213 has f = 1.12291552647282e-11 at x = [...]\n"
     ]
    },
    {
     "name": "stdout",
     "output_type": "stream",
     "text": [
      "1.1229155264728237e-11\n"
     ]
    },
    {
     "name": "stderr",
     "output_type": "stream",
     "text": [
      "Function eval 214 at point 214 has f = 1.89250157874098e-12 at x = [...]\n"
     ]
    },
    {
     "name": "stdout",
     "output_type": "stream",
     "text": [
      "1.8925015787409776e-12\n"
     ]
    },
    {
     "name": "stderr",
     "output_type": "stream",
     "text": [
      "Function eval 215 at point 215 has f = 4.50089051653508e-13 at x = [...]\n"
     ]
    },
    {
     "name": "stdout",
     "output_type": "stream",
     "text": [
      "4.500890516535083e-13\n"
     ]
    },
    {
     "name": "stderr",
     "output_type": "stream",
     "text": [
      "Function eval 216 at point 216 has f = 2.06667267494629e-12 at x = [...]\n"
     ]
    },
    {
     "name": "stdout",
     "output_type": "stream",
     "text": [
      "2.0666726749462923e-12\n"
     ]
    },
    {
     "name": "stderr",
     "output_type": "stream",
     "text": [
      "Function eval 217 at point 217 has f = 3.38699748503903e-12 at x = [...]\n"
     ]
    },
    {
     "name": "stdout",
     "output_type": "stream",
     "text": [
      "3.3869974850390256e-12\n"
     ]
    },
    {
     "name": "stderr",
     "output_type": "stream",
     "text": [
      "Function eval 218 at point 218 has f = 1.74792528045756e-12 at x = [...]\n",
      "New rho = 1e-08 after 218 function evaluations\n"
     ]
    },
    {
     "name": "stdout",
     "output_type": "stream",
     "text": [
      "1.7479252804575603e-12\n"
     ]
    },
    {
     "name": "stderr",
     "output_type": "stream",
     "text": [
      "Function eval 219 at point 219 has f = 3.74998919504442e-13 at x = [...]\n"
     ]
    },
    {
     "name": "stdout",
     "output_type": "stream",
     "text": [
      "3.7499891950444223e-13\n"
     ]
    },
    {
     "name": "stderr",
     "output_type": "stream",
     "text": [
      "Function eval 220 at point 220 has f = 2.54953161748101e-14 at x = [...]\n"
     ]
    },
    {
     "name": "stdout",
     "output_type": "stream",
     "text": [
      "2.5495316174810115e-14\n"
     ]
    },
    {
     "name": "stderr",
     "output_type": "stream",
     "text": [
      "Function eval 221 at point 221 has f = 7.2377006427817e-14 at x = [...]\n"
     ]
    },
    {
     "name": "stdout",
     "output_type": "stream",
     "text": [
      "7.237700642781695e-14\n"
     ]
    },
    {
     "name": "stderr",
     "output_type": "stream",
     "text": [
      "Function eval 222 at point 222 has f = 2.60845324362691e-14 at x = [...]\n"
     ]
    },
    {
     "name": "stdout",
     "output_type": "stream",
     "text": [
      "2.6084532436269085e-14\n"
     ]
    },
    {
     "name": "stderr",
     "output_type": "stream",
     "text": [
      "Function eval 223 at point 223 has f = 4.16046370890347e-15 at x = [...]\n"
     ]
    },
    {
     "name": "stdout",
     "output_type": "stream",
     "text": [
      "4.160463708903471e-15\n"
     ]
    },
    {
     "name": "stderr",
     "output_type": "stream",
     "text": [
      "Function eval 224 at point 224 has f = 6.72367341320441e-15 at x = [...]\n"
     ]
    },
    {
     "name": "stdout",
     "output_type": "stream",
     "text": [
      "6.723673413204413e-15\n"
     ]
    },
    {
     "name": "stderr",
     "output_type": "stream",
     "text": [
      "Function eval 225 at point 225 has f = 5.13331525092426e-15 at x = [...]\n"
     ]
    },
    {
     "name": "stdout",
     "output_type": "stream",
     "text": [
      "5.133315250924263e-15\n"
     ]
    },
    {
     "name": "stderr",
     "output_type": "stream",
     "text": [
      "Function eval 226 at point 226 has f = 6.65446626722256e-14 at x = [...]\n"
     ]
    },
    {
     "name": "stdout",
     "output_type": "stream",
     "text": [
      "6.654466267222558e-14\n"
     ]
    },
    {
     "name": "stderr",
     "output_type": "stream",
     "text": [
      "Function eval 227 at point 227 has f = 8.28679019939838e-15 at x = [...]\n"
     ]
    },
    {
     "name": "stdout",
     "output_type": "stream",
     "text": [
      "8.286790199398376e-15\n"
     ]
    },
    {
     "name": "stderr",
     "output_type": "stream",
     "text": [
      "Function eval 228 at point 228 has f = 8.68050966661495e-14 at x = [...]\n"
     ]
    },
    {
     "name": "stdout",
     "output_type": "stream",
     "text": [
      "8.680509666614946e-14\n"
     ]
    },
    {
     "name": "stderr",
     "output_type": "stream",
     "text": [
      "Function eval 229 at point 229 has f = 2.11695678515625e-14 at x = [...]\n"
     ]
    },
    {
     "name": "stdout",
     "output_type": "stream",
     "text": [
      "2.11695678515625e-14\n"
     ]
    },
    {
     "name": "stderr",
     "output_type": "stream",
     "text": [
      "Function eval 230 at point 230 has f = 1.78906847654665e-14 at x = [...]\n"
     ]
    },
    {
     "name": "stdout",
     "output_type": "stream",
     "text": [
      "1.789068476546648e-14\n"
     ]
    },
    {
     "name": "stderr",
     "output_type": "stream",
     "text": [
      "Function eval 231 at point 231 has f = 1.91281354664925e-15 at x = [...]\n"
     ]
    },
    {
     "name": "stdout",
     "output_type": "stream",
     "text": [
      "1.9128135466492504e-15\n"
     ]
    },
    {
     "name": "stderr",
     "output_type": "stream",
     "text": [
      "Function eval 232 at point 232 has f = 4.79466048182954e-14 at x = [...]\n"
     ]
    },
    {
     "name": "stdout",
     "output_type": "stream",
     "text": [
      "4.7946604818295356e-14\n"
     ]
    },
    {
     "name": "stderr",
     "output_type": "stream",
     "text": [
      "Function eval 233 at point 233 has f = 2.10579835688751e-14 at x = [...]\n"
     ]
    },
    {
     "name": "stdout",
     "output_type": "stream",
     "text": [
      "2.1057983568875068e-14\n"
     ]
    },
    {
     "name": "stderr",
     "output_type": "stream",
     "text": [
      "Function eval 234 at point 234 has f = 1.8235916810094e-14 at x = [...]\n"
     ]
    },
    {
     "name": "stdout",
     "output_type": "stream",
     "text": [
      "1.8235916810094008e-14\n"
     ]
    },
    {
     "name": "stderr",
     "output_type": "stream",
     "text": [
      "Function eval 235 at point 235 has f = 2.46657730955766e-14 at x = [...]\n"
     ]
    },
    {
     "name": "stdout",
     "output_type": "stream",
     "text": [
      "2.4665773095576565e-14\n"
     ]
    },
    {
     "name": "stderr",
     "output_type": "stream",
     "text": [
      "Function eval 236 at point 236 has f = 1.26279206836467e-14 at x = [...]\n"
     ]
    },
    {
     "name": "stdout",
     "output_type": "stream",
     "text": [
      "1.2627920683646656e-14\n"
     ]
    },
    {
     "name": "stderr",
     "output_type": "stream",
     "text": [
      "Function eval 237 at point 237 has f = 1.73899726319586e-14 at x = [...]\n"
     ]
    },
    {
     "name": "stdout",
     "output_type": "stream",
     "text": [
      "1.738997263195858e-14\n"
     ]
    },
    {
     "name": "stderr",
     "output_type": "stream",
     "text": [
      "Function eval 238 at point 238 has f = 3.6208290228773e-14 at x = [...]\n"
     ]
    },
    {
     "name": "stdout",
     "output_type": "stream",
     "text": [
      "3.6208290228772966e-14\n"
     ]
    },
    {
     "name": "stderr",
     "output_type": "stream",
     "text": [
      "Function eval 239 at point 239 has f = 5.80080138768899e-14 at x = [...]\n"
     ]
    },
    {
     "name": "stdout",
     "output_type": "stream",
     "text": [
      "5.80080138768899e-14\n"
     ]
    },
    {
     "name": "stderr",
     "output_type": "stream",
     "text": [
      "Function eval 240 at point 240 has f = 7.37971739334768e-15 at x = [...]\n"
     ]
    },
    {
     "name": "stdout",
     "output_type": "stream",
     "text": [
      "7.379717393347684e-15\n"
     ]
    },
    {
     "name": "stderr",
     "output_type": "stream",
     "text": [
      "Function eval 241 at point 241 has f = 2.53282683862214e-15 at x = [...]\n"
     ]
    },
    {
     "name": "stdout",
     "output_type": "stream",
     "text": [
      "2.532826838622141e-15\n"
     ]
    },
    {
     "name": "stderr",
     "output_type": "stream",
     "text": [
      "Function eval 242 at point 242 has f = 3.53691182648991e-14 at x = [...]\n"
     ]
    },
    {
     "name": "stdout",
     "output_type": "stream",
     "text": [
      "3.536911826489912e-14\n"
     ]
    },
    {
     "name": "stderr",
     "output_type": "stream",
     "text": [
      "Function eval 243 at point 243 has f = 3.64977524567046e-15 at x = [...]\n"
     ]
    },
    {
     "name": "stdout",
     "output_type": "stream",
     "text": [
      "3.64977524567046e-15\n"
     ]
    },
    {
     "name": "stderr",
     "output_type": "stream",
     "text": [
      "Function eval 244 at point 244 has f = 3.66193614426836e-14 at x = [...]\n"
     ]
    },
    {
     "name": "stdout",
     "output_type": "stream",
     "text": [
      "3.661936144268365e-14\n"
     ]
    },
    {
     "name": "stderr",
     "output_type": "stream",
     "text": [
      "Function eval 245 at point 245 has f = 3.4224039586343e-14 at x = [...]\n"
     ]
    },
    {
     "name": "stdout",
     "output_type": "stream",
     "text": [
      "3.422403958634302e-14\n"
     ]
    },
    {
     "name": "stderr",
     "output_type": "stream",
     "text": [
      "Function eval 246 at point 246 has f = 3.99877040985372e-14 at x = [...]\n"
     ]
    },
    {
     "name": "stdout",
     "output_type": "stream",
     "text": [
      "3.998770409853718e-14\n"
     ]
    },
    {
     "name": "stderr",
     "output_type": "stream",
     "text": [
      "Function eval 247 at point 247 has f = 9.29463327060981e-15 at x = [...]\n"
     ]
    },
    {
     "name": "stdout",
     "output_type": "stream",
     "text": [
      "9.294633270609808e-15\n"
     ]
    },
    {
     "name": "stderr",
     "output_type": "stream",
     "text": [
      "Function eval 248 at point 248 has f = 4.95003325323264e-15 at x = [...]\n"
     ]
    },
    {
     "name": "stdout",
     "output_type": "stream",
     "text": [
      "4.95003325323264e-15\n"
     ]
    },
    {
     "name": "stderr",
     "output_type": "stream",
     "text": [
      "Function eval 249 at point 249 has f = 1.56413232708506e-15 at x = [...]\n"
     ]
    },
    {
     "name": "stdout",
     "output_type": "stream",
     "text": [
      "1.5641323270850574e-15\n"
     ]
    },
    {
     "name": "stderr",
     "output_type": "stream",
     "text": [
      "Function eval 250 at point 250 has f = 1.2390381325308e-13 at x = [...]\n"
     ]
    },
    {
     "name": "stdout",
     "output_type": "stream",
     "text": [
      "1.239038132530796e-13\n"
     ]
    },
    {
     "name": "stderr",
     "output_type": "stream",
     "text": [
      "Function eval 251 at point 251 has f = 8.5679899805272e-15 at x = [...]\n"
     ]
    },
    {
     "name": "stdout",
     "output_type": "stream",
     "text": [
      "8.567989980527203e-15\n"
     ]
    },
    {
     "name": "stderr",
     "output_type": "stream",
     "text": [
      "Function eval 252 at point 252 has f = 1.08019758446424e-14 at x = [...]\n"
     ]
    },
    {
     "name": "stdout",
     "output_type": "stream",
     "text": [
      "1.0801975844642432e-14\n"
     ]
    },
    {
     "name": "stderr",
     "output_type": "stream",
     "text": [
      "Function eval 253 at point 253 has f = 1.07310613775396e-13 at x = [...]\n"
     ]
    },
    {
     "name": "stdout",
     "output_type": "stream",
     "text": [
      "1.0731061377539564e-13\n"
     ]
    },
    {
     "name": "stderr",
     "output_type": "stream",
     "text": [
      "Function eval 254 at point 254 has f = 1.19456753715653e-14 at x = [...]\n"
     ]
    },
    {
     "name": "stdout",
     "output_type": "stream",
     "text": [
      "1.1945675371565286e-14\n"
     ]
    },
    {
     "name": "stderr",
     "output_type": "stream",
     "text": [
      "Function eval 255 at point 255 has f = 4.15241034314738e-14 at x = [...]\n"
     ]
    },
    {
     "name": "stdout",
     "output_type": "stream",
     "text": [
      "4.152410343147378e-14\n"
     ]
    },
    {
     "name": "stderr",
     "output_type": "stream",
     "text": [
      "Function eval 256 at point 256 has f = 3.04687298791601e-15 at x = [...]\n"
     ]
    },
    {
     "name": "stdout",
     "output_type": "stream",
     "text": [
      "3.0468729879160058e-15\n"
     ]
    },
    {
     "name": "stderr",
     "output_type": "stream",
     "text": [
      "Function eval 257 at point 257 has f = 3.32191208785073e-14 at x = [...]\n"
     ]
    },
    {
     "name": "stdout",
     "output_type": "stream",
     "text": [
      "3.32191208785073e-14\n"
     ]
    },
    {
     "name": "stderr",
     "output_type": "stream",
     "text": [
      "Function eval 258 at point 258 has f = 3.64407978918666e-15 at x = [...]\n"
     ]
    },
    {
     "name": "stdout",
     "output_type": "stream",
     "text": [
      "3.644079789186664e-15\n"
     ]
    },
    {
     "name": "stderr",
     "output_type": "stream",
     "text": [
      "Function eval 259 at point 259 has f = 4.37941411911009e-14 at x = [...]\n"
     ]
    },
    {
     "name": "stdout",
     "output_type": "stream",
     "text": [
      "4.3794141191100886e-14\n"
     ]
    },
    {
     "name": "stderr",
     "output_type": "stream",
     "text": [
      "Function eval 260 at point 260 has f = 6.70497662329871e-15 at x = [...]\n"
     ]
    },
    {
     "name": "stdout",
     "output_type": "stream",
     "text": [
      "6.7049766232987096e-15\n"
     ]
    },
    {
     "name": "stderr",
     "output_type": "stream",
     "text": [
      "Function eval 261 at point 261 has f = 2.27355982493699e-14 at x = [...]\n"
     ]
    },
    {
     "name": "stdout",
     "output_type": "stream",
     "text": [
      "2.2735598249369882e-14\n"
     ]
    },
    {
     "name": "stderr",
     "output_type": "stream",
     "text": [
      "Function eval 262 at point 262 has f = 1.5058122340558e-14 at x = [...]\n"
     ]
    },
    {
     "name": "stdout",
     "output_type": "stream",
     "text": [
      "1.5058122340558035e-14\n"
     ]
    },
    {
     "name": "stderr",
     "output_type": "stream",
     "text": [
      "Function eval 263 at point 263 has f = 4.99440162748563e-14 at x = [...]\n"
     ]
    },
    {
     "name": "stdout",
     "output_type": "stream",
     "text": [
      "4.994401627485632e-14\n"
     ]
    },
    {
     "name": "stderr",
     "output_type": "stream",
     "text": [
      "Function eval 264 at point 264 has f = 1.15908989203593e-14 at x = [...]\n"
     ]
    },
    {
     "name": "stdout",
     "output_type": "stream",
     "text": [
      "1.159089892035926e-14\n"
     ]
    },
    {
     "name": "stderr",
     "output_type": "stream",
     "text": [
      "Function eval 265 at point 265 has f = 8.38980322643062e-16 at x = [...]\n",
      "New rho = 1e-09 after 265 function evaluations\n"
     ]
    },
    {
     "name": "stdout",
     "output_type": "stream",
     "text": [
      "8.38980322643062e-16\n"
     ]
    },
    {
     "name": "stderr",
     "output_type": "stream",
     "text": [
      "Function eval 266 at point 266 has f = 5.04592136678579e-15 at x = [...]\n"
     ]
    },
    {
     "name": "stdout",
     "output_type": "stream",
     "text": [
      "5.045921366785794e-15\n"
     ]
    },
    {
     "name": "stderr",
     "output_type": "stream",
     "text": [
      "Function eval 267 at point 267 has f = 6.6251885059816e-16 at x = [...]\n"
     ]
    },
    {
     "name": "stdout",
     "output_type": "stream",
     "text": [
      "6.625188505981601e-16\n"
     ]
    },
    {
     "name": "stderr",
     "output_type": "stream",
     "text": [
      "Function eval 268 at point 268 has f = 1.31469514457447e-15 at x = [...]\n"
     ]
    },
    {
     "name": "stdout",
     "output_type": "stream",
     "text": [
      "1.3146951445744718e-15\n"
     ]
    },
    {
     "name": "stderr",
     "output_type": "stream",
     "text": [
      "Function eval 269 at point 269 has f = 3.60929335581754e-16 at x = [...]\n"
     ]
    },
    {
     "name": "stdout",
     "output_type": "stream",
     "text": [
      "3.6092933558175396e-16\n"
     ]
    },
    {
     "name": "stderr",
     "output_type": "stream",
     "text": [
      "Function eval 270 at point 270 has f = 1.4760241146544e-16 at x = [...]\n"
     ]
    },
    {
     "name": "stdout",
     "output_type": "stream",
     "text": [
      "1.476024114654404e-16\n"
     ]
    },
    {
     "name": "stderr",
     "output_type": "stream",
     "text": [
      "Function eval 271 at point 271 has f = 4.88975027020378e-16 at x = [...]\n"
     ]
    },
    {
     "name": "stdout",
     "output_type": "stream",
     "text": [
      "4.889750270203779e-16\n"
     ]
    },
    {
     "name": "stderr",
     "output_type": "stream",
     "text": [
      "Function eval 272 at point 272 has f = 5.59263077034879e-18 at x = [...]\n"
     ]
    },
    {
     "name": "stdout",
     "output_type": "stream",
     "text": [
      "5.592630770348787e-18\n"
     ]
    },
    {
     "name": "stderr",
     "output_type": "stream",
     "text": [
      "Function eval 273 at point 273 has f = 3.02243450949382e-16 at x = [...]\n"
     ]
    },
    {
     "name": "stdout",
     "output_type": "stream",
     "text": [
      "3.022434509493819e-16\n"
     ]
    },
    {
     "name": "stderr",
     "output_type": "stream",
     "text": [
      "Function eval 274 at point 274 has f = 3.61879578048098e-16 at x = [...]\n"
     ]
    },
    {
     "name": "stdout",
     "output_type": "stream",
     "text": [
      "3.6187957804809804e-16\n"
     ]
    },
    {
     "name": "stderr",
     "output_type": "stream",
     "text": [
      "Function eval 275 at point 275 has f = 1.15977590743961e-16 at x = [...]\n"
     ]
    },
    {
     "name": "stdout",
     "output_type": "stream",
     "text": [
      "1.1597759074396094e-16\n"
     ]
    },
    {
     "name": "stderr",
     "output_type": "stream",
     "text": [
      "Function eval 276 at point 276 has f = 2.79071945807398e-16 at x = [...]\n"
     ]
    },
    {
     "name": "stdout",
     "output_type": "stream",
     "text": [
      "2.790719458073984e-16\n"
     ]
    },
    {
     "name": "stderr",
     "output_type": "stream",
     "text": [
      "Function eval 277 at point 277 has f = 7.69478679559567e-16 at x = [...]\n"
     ]
    },
    {
     "name": "stdout",
     "output_type": "stream",
     "text": [
      "7.69478679559567e-16\n"
     ]
    },
    {
     "name": "stderr",
     "output_type": "stream",
     "text": [
      "Function eval 278 at point 278 has f = 1.93213131034727e-16 at x = [...]\n"
     ]
    },
    {
     "name": "stdout",
     "output_type": "stream",
     "text": [
      "1.9321313103472693e-16\n"
     ]
    },
    {
     "name": "stderr",
     "output_type": "stream",
     "text": [
      "Function eval 279 at point 279 has f = 3.56278680903738e-16 at x = [...]\n"
     ]
    },
    {
     "name": "stdout",
     "output_type": "stream",
     "text": [
      "3.5627868090373767e-16\n"
     ]
    },
    {
     "name": "stderr",
     "output_type": "stream",
     "text": [
      "Function eval 280 at point 280 has f = 4.26449093074739e-16 at x = [...]\n"
     ]
    },
    {
     "name": "stdout",
     "output_type": "stream",
     "text": [
      "4.2644909307473903e-16\n"
     ]
    },
    {
     "name": "stderr",
     "output_type": "stream",
     "text": [
      "Function eval 281 at point 281 has f = 3.81083721236367e-17 at x = [...]\n"
     ]
    },
    {
     "name": "stdout",
     "output_type": "stream",
     "text": [
      "3.810837212363673e-17\n"
     ]
    },
    {
     "name": "stderr",
     "output_type": "stream",
     "text": [
      "Function eval 282 at point 282 has f = 7.22588744882782e-16 at x = [...]\n"
     ]
    },
    {
     "name": "stdout",
     "output_type": "stream",
     "text": [
      "7.225887448827816e-16\n"
     ]
    },
    {
     "name": "stderr",
     "output_type": "stream",
     "text": [
      "Function eval 283 at point 283 has f = 1.3013984952293e-16 at x = [...]\n"
     ]
    },
    {
     "name": "stdout",
     "output_type": "stream",
     "text": [
      "1.3013984952293026e-16\n"
     ]
    },
    {
     "name": "stderr",
     "output_type": "stream",
     "text": [
      "Function eval 284 at point 284 has f = 2.76947128636947e-16 at x = [...]\n"
     ]
    },
    {
     "name": "stdout",
     "output_type": "stream",
     "text": [
      "2.7694712863694713e-16\n"
     ]
    },
    {
     "name": "stderr",
     "output_type": "stream",
     "text": [
      "Function eval 285 at point 285 has f = 1.37008570668898e-16 at x = [...]\n"
     ]
    },
    {
     "name": "stdout",
     "output_type": "stream",
     "text": [
      "1.3700857066889786e-16\n"
     ]
    },
    {
     "name": "stderr",
     "output_type": "stream",
     "text": [
      "Function eval 286 at point 286 has f = 4.83818206847466e-16 at x = [...]\n"
     ]
    },
    {
     "name": "stdout",
     "output_type": "stream",
     "text": [
      "4.838182068474656e-16\n"
     ]
    },
    {
     "name": "stderr",
     "output_type": "stream",
     "text": [
      "Function eval 287 at point 287 has f = 4.40323068052585e-17 at x = [...]\n"
     ]
    },
    {
     "name": "stdout",
     "output_type": "stream",
     "text": [
      "4.4032306805258534e-17\n"
     ]
    },
    {
     "name": "stderr",
     "output_type": "stream",
     "text": [
      "Function eval 288 at point 288 has f = 1.85562810833507e-16 at x = [...]\n"
     ]
    },
    {
     "name": "stdout",
     "output_type": "stream",
     "text": [
      "1.8556281083350734e-16\n"
     ]
    },
    {
     "name": "stderr",
     "output_type": "stream",
     "text": [
      "Function eval 289 at point 289 has f = 1.17455385138614e-16 at x = [...]\n"
     ]
    },
    {
     "name": "stdout",
     "output_type": "stream",
     "text": [
      "1.1745538513861413e-16\n"
     ]
    },
    {
     "name": "stderr",
     "output_type": "stream",
     "text": [
      "Function eval 290 at point 290 has f = 1.36257152777927e-16 at x = [...]\n"
     ]
    },
    {
     "name": "stdout",
     "output_type": "stream",
     "text": [
      "1.3625715277792742e-16\n"
     ]
    },
    {
     "name": "stderr",
     "output_type": "stream",
     "text": [
      "Function eval 291 at point 291 has f = 1.69164588201375e-16 at x = [...]\n"
     ]
    },
    {
     "name": "stdout",
     "output_type": "stream",
     "text": [
      "1.6916458820137454e-16\n"
     ]
    },
    {
     "name": "stderr",
     "output_type": "stream",
     "text": [
      "Function eval 292 at point 292 has f = 2.95314910192919e-17 at x = [...]\n"
     ]
    },
    {
     "name": "stdout",
     "output_type": "stream",
     "text": [
      "2.953149101929187e-17\n"
     ]
    },
    {
     "name": "stderr",
     "output_type": "stream",
     "text": [
      "Function eval 293 at point 293 has f = 7.16168427570212e-17 at x = [...]\n"
     ]
    },
    {
     "name": "stdout",
     "output_type": "stream",
     "text": [
      "7.161684275702118e-17\n"
     ]
    },
    {
     "name": "stderr",
     "output_type": "stream",
     "text": [
      "Function eval 294 at point 294 has f = 3.72070079545128e-17 at x = [...]\n"
     ]
    },
    {
     "name": "stdout",
     "output_type": "stream",
     "text": [
      "3.7207007954512756e-17\n"
     ]
    },
    {
     "name": "stderr",
     "output_type": "stream",
     "text": [
      "Function eval 295 at point 295 has f = 4.12342742162522e-16 at x = [...]\n"
     ]
    },
    {
     "name": "stdout",
     "output_type": "stream",
     "text": [
      "4.1234274216252157e-16\n"
     ]
    },
    {
     "name": "stderr",
     "output_type": "stream",
     "text": [
      "Function eval 296 at point 296 has f = 2.66554291357881e-16 at x = [...]\n"
     ]
    },
    {
     "name": "stdout",
     "output_type": "stream",
     "text": [
      "2.6655429135788105e-16\n"
     ]
    },
    {
     "name": "stderr",
     "output_type": "stream",
     "text": [
      "Function eval 297 at point 297 has f = 1.91648162331943e-16 at x = [...]\n"
     ]
    },
    {
     "name": "stdout",
     "output_type": "stream",
     "text": [
      "1.9164816233194344e-16\n"
     ]
    },
    {
     "name": "stderr",
     "output_type": "stream",
     "text": [
      "Function eval 298 at point 298 has f = 2.56024064251713e-16 at x = [...]\n",
      "Did a total of 1 run(s)\n"
     ]
    },
    {
     "name": "stdout",
     "output_type": "stream",
     "text": [
      "2.560240642517127e-16\n",
      "****** Py-BOBYQA Results ******\n",
      "Solution xmin = [ 1.925  1.991  1.974  0.122  0.157  0.273  0.181  0.094  0.128  0.078\n",
      "  0.054  0.07   1.9    2.441 -0.2   -0.5   -0.1   -0.3    0.2    0.3\n",
      "  0.01   0.192  0.47 ]\n",
      "Objective value f(xmin) = 0\n",
      "Needed 298 objective evaluations (at 298 points)\n",
      "Approximate gradient = [-2.70447649e-05  1.42401261e-06  7.67200202e-06  1.80599237e-04\n",
      "  1.71684339e-04 -2.40230444e-04 -2.72614832e-05  1.46412532e-04\n",
      "  1.12485076e-04  1.09471299e-03 -9.15517581e-05  5.97114421e-04\n",
      " -1.01721547e-05  1.62273270e-05  1.15671662e-04 -1.63874327e-04\n",
      " -2.54149754e-04 -2.69829418e-04  2.81805959e-05  1.28943922e-05\n",
      " -8.18993431e-05  8.03169250e-05 -4.60988670e-05]\n",
      "Not showing approximate Hessian because it is too long; check self.hessian\n",
      "Exit flag = 0\n",
      "Success: rho has reached rhoend\n",
      "******************************\n",
      "\n"
     ]
    }
   ],
   "source": [
    "import pybobyqa\n",
    "from functools import partial\n",
    "\n",
    "model_params_init_file_name = \"toy_model_init_file_03_3types.pkl\"\n",
    "model_spec_init_file_name = \"model_spec_init.yml\"\n",
    "\n",
    "data = pd.read_pickle(\"data_obs_3types.pkl\")\n",
    "\n",
    "data = pre_process_data(data)\n",
    "\n",
    "moments_obs = get_moments(data)\n",
    "\n",
    "weighting_matrix = get_weighting_matrix(data, num_agents_smm = 500, num_samples = 200)\n",
    "\n",
    "objective = partial(get_objective, model_params_init_file_name, model_spec_init_file_name, moments_obs, weighting_matrix)\n",
    "\n",
    "optim_paras_start = np.tile(\n",
    "    (\n",
    "        1.925,\n",
    "        1.991,\n",
    "        1.974,\n",
    "        0.122,\n",
    "        0.157,\n",
    "        0.273,\n",
    "        0.181,\n",
    "        0.094,\n",
    "        0.128,\n",
    "        0.078,\n",
    "        0.054,\n",
    "        0.070,\n",
    "        1.900,\n",
    "        2.441,\n",
    "        -0.200,\n",
    "        -0.500,\n",
    "        -0.100,\n",
    "        -0.300,\n",
    "        0.2,\n",
    "        0.3,\n",
    "        0.010,\n",
    "        0.192,\n",
    "        0.470,\n",
    "    ),\n",
    "    1,\n",
    ")\n",
    "\n",
    "lower = np.tile(\n",
    "    (\n",
    "        1.000,\n",
    "        1.000,\n",
    "        1.000,\n",
    "        0.050,\n",
    "        0.050,\n",
    "        0.050,\n",
    "        0.005,\n",
    "        0.005,\n",
    "        0.005,\n",
    "        0.001,\n",
    "        0.001,\n",
    "        0.001,\n",
    "        1.00,\n",
    "        1.00,\n",
    "        -0.400,\n",
    "        -0.800,\n",
    "        -0.400,\n",
    "        -0.800,\n",
    "        0.001,\n",
    "        0.001,\n",
    "        0.001,\n",
    "        0.001,\n",
    "        0.001,\n",
    "    ),\n",
    "    1,\n",
    ")\n",
    "\n",
    "upper = np.tile(\n",
    "    (\n",
    "        3.000,\n",
    "        3.000,\n",
    "        3.000,\n",
    "        0.400,\n",
    "        0.400,\n",
    "        0.400,\n",
    "        0.600,\n",
    "        0.600,\n",
    "        0.600,\n",
    "        0.150,\n",
    "        0.150,\n",
    "        0.150,\n",
    "        4.00,\n",
    "        4.00,\n",
    "        -0.050,\n",
    "        -0.150,\n",
    "        -0.050,\n",
    "        -0.150,\n",
    "        0.999,\n",
    "        0.999,\n",
    "        0.800,\n",
    "        0.800,\n",
    "        0.800,\n",
    "    ),\n",
    "    1,\n",
    ")\n",
    "\n",
    "# Log\n",
    "logging.basicConfig(level=logging.INFO, format=\"%(message)s\")\n",
    "\n",
    "# Optimize\n",
    "soln = pybobyqa.solve(\n",
    "    objective,\n",
    "    optim_paras_start,\n",
    "    rhobeg=0.01,\n",
    "    rhoend=1e-9,\n",
    "    maxfun=5000,\n",
    "    bounds=(lower, upper),\n",
    "    scaling_within_bounds=True,\n",
    ")\n",
    "\n",
    "print(soln)"
   ]
  }
 ],
 "metadata": {
  "kernelspec": {
   "display_name": "Python [conda env:smm_soepy]",
   "language": "python",
   "name": "conda-env-smm_soepy-py"
  },
  "language_info": {
   "codemirror_mode": {
    "name": "ipython",
    "version": 3
   },
   "file_extension": ".py",
   "mimetype": "text/x-python",
   "name": "python",
   "nbconvert_exporter": "python",
   "pygments_lexer": "ipython3",
   "version": "3.7.2"
  }
 },
 "nbformat": 4,
 "nbformat_minor": 2
}
